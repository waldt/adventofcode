{
 "cells": [
  {
   "cell_type": "markdown",
   "metadata": {},
   "source": [
    "## [Advent of code 2017](http://adventofcode.com/2017/)"
   ]
  },
  {
   "cell_type": "code",
   "execution_count": 3,
   "metadata": {
    "collapsed": true
   },
   "outputs": [],
   "source": [
    "import itertools \n",
    "from collections import Counter\n",
    "import re\n",
    "\n",
    "# from itertools recipes\n",
    "def nth(iterable, n, default=None):\n",
    "    \"Returns the nth item or a default value\"\n",
    "    return next(itertools.islice(iterable, n, None), default)\n",
    "\n",
    "# borrowed from Peter Norvig\n",
    "def neighbors8(point): \n",
    "    \"The eight neighbors (with diagonals).\"\n",
    "    x, y = point \n",
    "    return ((x+1, y), (x-1, y), (x, y+1), (x, y-1),\n",
    "            (x+1, y+1), (x-1, y-1), (x+1, y-1), (x-1, y+1))\n",
    "\n",
    "def Input(day):\n",
    "    \"Open this day's input file.\"\n",
    "    filename = 'input{}.txt'.format(day)\n",
    "    with open(filename) as f:\n",
    "        return f.read().strip()"
   ]
  },
  {
   "cell_type": "code",
   "execution_count": 4,
   "metadata": {
    "collapsed": true
   },
   "outputs": [],
   "source": [
    "digits = map(int,Input(1))\n",
    "n = len(digits)"
   ]
  },
  {
   "cell_type": "code",
   "execution_count": 5,
   "metadata": {},
   "outputs": [
    {
     "data": {
      "text/plain": [
       "1141"
      ]
     },
     "execution_count": 5,
     "metadata": {},
     "output_type": "execute_result"
    }
   ],
   "source": [
    "sum(int(digits[i]) for i in range(n) if digits[i] == digits[(i+1) % n]) "
   ]
  },
  {
   "cell_type": "code",
   "execution_count": 6,
   "metadata": {},
   "outputs": [
    {
     "data": {
      "text/plain": [
       "950"
      ]
     },
     "execution_count": 6,
     "metadata": {},
     "output_type": "execute_result"
    }
   ],
   "source": [
    "sum(int(digits[i]) for i in range(n) if digits[i] == digits[(i+(n/2)) % n])  "
   ]
  },
  {
   "cell_type": "markdown",
   "metadata": {},
   "source": [
    "## [Day 2](http://adventofcode.com/2017/day/2)"
   ]
  },
  {
   "cell_type": "code",
   "execution_count": 7,
   "metadata": {
    "collapsed": true
   },
   "outputs": [],
   "source": [
    "table = [map(int,row.split('\\t')) for row in Input(2).split('\\n')]"
   ]
  },
  {
   "cell_type": "code",
   "execution_count": 8,
   "metadata": {},
   "outputs": [
    {
     "data": {
      "text/plain": [
       "32020"
      ]
     },
     "execution_count": 8,
     "metadata": {},
     "output_type": "execute_result"
    }
   ],
   "source": [
    "sum(max(row)-min(row) for row in table)"
   ]
  },
  {
   "cell_type": "code",
   "execution_count": 9,
   "metadata": {
    "collapsed": true
   },
   "outputs": [],
   "source": [
    "def myfun(l):\n",
    "    p=itertools.permutations(l,2)\n",
    "    return sum(m/n for m,n in p if (m%n==0))"
   ]
  },
  {
   "cell_type": "code",
   "execution_count": 10,
   "metadata": {},
   "outputs": [
    {
     "data": {
      "text/plain": [
       "236"
      ]
     },
     "execution_count": 10,
     "metadata": {},
     "output_type": "execute_result"
    }
   ],
   "source": [
    "sum(myfun(row) for row in table)"
   ]
  },
  {
   "cell_type": "markdown",
   "metadata": {},
   "source": [
    "## [Day 3](http://adventofcode.com/2017/day/3)"
   ]
  },
  {
   "cell_type": "code",
   "execution_count": 11,
   "metadata": {
    "collapsed": true
   },
   "outputs": [],
   "source": [
    "def spiral():\n",
    "    x = 0\n",
    "    y = 0\n",
    "    yield (x,y)\n",
    "    length = 1\n",
    "    while True:\n",
    "        # right\n",
    "        for _ in range(length):\n",
    "            x += 1\n",
    "            yield (x,y)\n",
    "        # up\n",
    "        for _ in range(length):\n",
    "            y -= 1\n",
    "            yield (x,y)\n",
    "        length += 1\n",
    "        # left\n",
    "        for _ in range(length):\n",
    "            x -= 1\n",
    "            yield (x,y)\n",
    "        # down\n",
    "        for _ in range(length):\n",
    "            y += 1\n",
    "            yield (x,y)\n",
    "        length +=1\n",
    "        \n",
    "            "
   ]
  },
  {
   "cell_type": "code",
   "execution_count": 12,
   "metadata": {
    "collapsed": true
   },
   "outputs": [],
   "source": [
    "def mdistance(n):\n",
    "    x,y = nth(spiral(),n-1)\n",
    "    return abs(x) + abs(y)"
   ]
  },
  {
   "cell_type": "code",
   "execution_count": 13,
   "metadata": {},
   "outputs": [
    {
     "data": {
      "text/plain": [
       "326"
      ]
     },
     "execution_count": 13,
     "metadata": {},
     "output_type": "execute_result"
    }
   ],
   "source": [
    "mdistance(361527)"
   ]
  },
  {
   "cell_type": "code",
   "execution_count": 14,
   "metadata": {
    "collapsed": true
   },
   "outputs": [],
   "source": [
    "def sumspiral():\n",
    "    sums={(0,0): 1}\n",
    "    sp = spiral()\n",
    "    next(sp)\n",
    "    for square in sp:\n",
    "        s = sum(sums.get(neighbor,0) for neighbor in neighbors8(square))\n",
    "        sums[square] = s\n",
    "        yield s"
   ]
  },
  {
   "cell_type": "code",
   "execution_count": 15,
   "metadata": {},
   "outputs": [
    {
     "data": {
      "text/plain": [
       "363010"
      ]
     },
     "execution_count": 15,
     "metadata": {},
     "output_type": "execute_result"
    }
   ],
   "source": [
    "next(s for s in sumspiral() if s > 361527)"
   ]
  },
  {
   "cell_type": "markdown",
   "metadata": {},
   "source": [
    "## [Day 4](http://adventofcode.com/2017/day/4)"
   ]
  },
  {
   "cell_type": "code",
   "execution_count": 16,
   "metadata": {
    "collapsed": true
   },
   "outputs": [],
   "source": [
    "passphrases = Input(4).split('\\n')"
   ]
  },
  {
   "cell_type": "code",
   "execution_count": 17,
   "metadata": {},
   "outputs": [
    {
     "data": {
      "text/plain": [
       "451"
      ]
     },
     "execution_count": 17,
     "metadata": {},
     "output_type": "execute_result"
    }
   ],
   "source": [
    "sum(all(count == 1 for count in Counter(p.split()).values()) for p in passphrases)\n",
    "# len([p for p in passphrases if len(p.split()) == len(set(p.split()))])"
   ]
  },
  {
   "cell_type": "code",
   "execution_count": 18,
   "metadata": {},
   "outputs": [
    {
     "data": {
      "text/plain": [
       "223"
      ]
     },
     "execution_count": 18,
     "metadata": {},
     "output_type": "execute_result"
    }
   ],
   "source": [
    "sum(all(count == 1 for count in Counter(frozenset(Counter(w).items()) for w in p.split()).values()) for p in passphrases)"
   ]
  },
  {
   "cell_type": "markdown",
   "metadata": {},
   "source": [
    "## [Day 5](http://adventofcode.com/2017/day/5)"
   ]
  },
  {
   "cell_type": "code",
   "execution_count": 19,
   "metadata": {
    "collapsed": true
   },
   "outputs": [],
   "source": [
    "jumps = map(int,Input(5).split(\"\\n\"))"
   ]
  },
  {
   "cell_type": "code",
   "execution_count": 20,
   "metadata": {
    "collapsed": true
   },
   "outputs": [],
   "source": [
    "def trampoline_steps(j):\n",
    "    step = 1\n",
    "    currentpos = 0\n",
    "    maxpos = len(j)-1\n",
    "    while True:\n",
    "        nextpos = currentpos + j[currentpos]\n",
    "        if (nextpos < 0) or (nextpos > maxpos):\n",
    "            return step\n",
    "        j[currentpos] +=1\n",
    "        currentpos = nextpos\n",
    "        step += 1    "
   ]
  },
  {
   "cell_type": "code",
   "execution_count": 21,
   "metadata": {},
   "outputs": [
    {
     "data": {
      "text/plain": [
       "388611"
      ]
     },
     "execution_count": 21,
     "metadata": {},
     "output_type": "execute_result"
    }
   ],
   "source": [
    "trampoline_steps(jumps)"
   ]
  },
  {
   "cell_type": "code",
   "execution_count": 22,
   "metadata": {
    "collapsed": true
   },
   "outputs": [],
   "source": [
    "jumps = map(int,Input(5).split(\"\\n\"))"
   ]
  },
  {
   "cell_type": "code",
   "execution_count": 23,
   "metadata": {
    "collapsed": true
   },
   "outputs": [],
   "source": [
    "def crazier_trampoline_steps(j):\n",
    "    step = 1\n",
    "    currentpos = 0\n",
    "    maxpos = len(j)-1\n",
    "    while True:\n",
    "        nextpos = currentpos + j[currentpos]\n",
    "        if (nextpos < 0) or (nextpos > maxpos):\n",
    "            return step\n",
    "        if abs(j[currentpos] > 2):\n",
    "            j[currentpos] -= 1\n",
    "        else:\n",
    "            j[currentpos] +=1\n",
    "        currentpos = nextpos\n",
    "        step += 1   "
   ]
  },
  {
   "cell_type": "code",
   "execution_count": 24,
   "metadata": {},
   "outputs": [
    {
     "data": {
      "text/plain": [
       "27763113"
      ]
     },
     "execution_count": 24,
     "metadata": {},
     "output_type": "execute_result"
    }
   ],
   "source": [
    "crazier_trampoline_steps(jumps)"
   ]
  },
  {
   "cell_type": "markdown",
   "metadata": {},
   "source": [
    "## [Day 6](http://adventofcode.com/2017/day/6)"
   ]
  },
  {
   "cell_type": "code",
   "execution_count": 25,
   "metadata": {
    "collapsed": true
   },
   "outputs": [],
   "source": [
    "banks = map(int,Input(6).split())\n",
    "#banks=[0, 2, 7, 0]"
   ]
  },
  {
   "cell_type": "code",
   "execution_count": 26,
   "metadata": {
    "collapsed": true
   },
   "outputs": [],
   "source": [
    "def redistribute_banks(l):\n",
    "    n = len(l)\n",
    "    d = max(l)\n",
    "    max_index = l.index(d)\n",
    "    l[max_index] = 0\n",
    "    for i in range(d):\n",
    "        l[(max_index+i+1) % n] += 1\n",
    "    return l"
   ]
  },
  {
   "cell_type": "code",
   "execution_count": 27,
   "metadata": {
    "collapsed": true
   },
   "outputs": [],
   "source": [
    "def find_cycle(l):\n",
    "    seen=set()\n",
    "    count=0\n",
    "    seen.add(tuple(l))\n",
    "    while True:\n",
    "        l = redistribute_banks(l)\n",
    "        count += 1\n",
    "        if tuple(l) in seen:\n",
    "            return count\n",
    "        seen.add(tuple(l)) "
   ]
  },
  {
   "cell_type": "code",
   "execution_count": 28,
   "metadata": {},
   "outputs": [
    {
     "data": {
      "text/plain": [
       "3156"
      ]
     },
     "execution_count": 28,
     "metadata": {},
     "output_type": "execute_result"
    }
   ],
   "source": [
    "find_cycle(banks)"
   ]
  },
  {
   "cell_type": "code",
   "execution_count": 29,
   "metadata": {},
   "outputs": [
    {
     "data": {
      "text/plain": [
       "1610"
      ]
     },
     "execution_count": 29,
     "metadata": {},
     "output_type": "execute_result"
    }
   ],
   "source": [
    "find_cycle(banks)"
   ]
  },
  {
   "cell_type": "markdown",
   "metadata": {},
   "source": [
    "## [Day 7](http://adventofcode.com/2017/day/7)"
   ]
  },
  {
   "cell_type": "code",
   "execution_count": 42,
   "metadata": {
    "collapsed": true
   },
   "outputs": [],
   "source": [
    "rawtree=Input(7).splitlines()\n"
   ]
  },
  {
   "cell_type": "code",
   "execution_count": 98,
   "metadata": {},
   "outputs": [],
   "source": [
    "tree = {}\n",
    "weight={}\n",
    "for l in rawtree:\n",
    "    f = re.findall(r\"\\w+\",l)\n",
    "    node = f[0]\n",
    "    weight[node] = int(f[1])\n",
    "    children = f[2:]\n",
    "    tree[node]=children"
   ]
  },
  {
   "cell_type": "code",
   "execution_count": 99,
   "metadata": {},
   "outputs": [
    {
     "data": {
      "text/plain": [
       "{'wiapj'}"
      ]
     },
     "execution_count": 99,
     "metadata": {},
     "output_type": "execute_result"
    }
   ],
   "source": [
    "set(tree.keys()) - {u for l in tree.values() for u in l}"
   ]
  },
  {
   "cell_type": "code",
   "execution_count": 121,
   "metadata": {
    "collapsed": true
   },
   "outputs": [],
   "source": [
    "def towerweight(node):\n",
    "    return weight[node] + sum(towerweight(n) for n in tree[node])"
   ]
  },
  {
   "cell_type": "code",
   "execution_count": 131,
   "metadata": {},
   "outputs": [],
   "source": [
    "unbalanced_discs = [n for n in tree if len(Counter(map(towerweight,tree[n]))) > 1]"
   ]
  },
  {
   "cell_type": "code",
   "execution_count": null,
   "metadata": {
    "collapsed": true
   },
   "outputs": [],
   "source": [
    "# TODO make the solution generic. "
   ]
  },
  {
   "cell_type": "code",
   "execution_count": 149,
   "metadata": {},
   "outputs": [
    {
     "data": {
      "text/plain": [
       "[('wiapj',\n",
       "  [('djzjiwd', 88556),\n",
       "   ('lsire', 88563),\n",
       "   ('vlbivgc', 88556),\n",
       "   ('xdctkbj', 88556),\n",
       "   ('ygvpk', 88556)]),\n",
       " ('lsire', [('locrtxl', 8957), ('shlfz', 8957), ('ycpcv', 8964)]),\n",
       " ('ycpcv',\n",
       "  [('izdhn', 1777),\n",
       "   ('yzhvrx', 1777),\n",
       "   ('eionkb', 1784),\n",
       "   ('eadvs', 1777),\n",
       "   ('jkkqxfr', 1777)])]"
      ]
     },
     "execution_count": 149,
     "metadata": {},
     "output_type": "execute_result"
    }
   ],
   "source": [
    "[(n,zip(tree[n],map(towerweight,tree[n]))) for n in unbalanced_discs]"
   ]
  },
  {
   "cell_type": "code",
   "execution_count": 153,
   "metadata": {},
   "outputs": [
    {
     "data": {
      "text/plain": [
       "1072"
      ]
     },
     "execution_count": 153,
     "metadata": {},
     "output_type": "execute_result"
    }
   ],
   "source": [
    "weight['eionkb']-7"
   ]
  }
 ],
 "metadata": {
  "kernelspec": {
   "display_name": "Python (adventofcode)",
   "language": "python",
   "name": "adventofcode"
  },
  "language_info": {
   "codemirror_mode": {
    "name": "ipython",
    "version": 2
   },
   "file_extension": ".py",
   "mimetype": "text/x-python",
   "name": "python",
   "nbconvert_exporter": "python",
   "pygments_lexer": "ipython2",
   "version": "2.7.13"
  }
 },
 "nbformat": 4,
 "nbformat_minor": 2
}
