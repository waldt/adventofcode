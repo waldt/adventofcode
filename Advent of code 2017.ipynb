{
 "cells": [
  {
   "cell_type": "markdown",
   "metadata": {},
   "source": [
    "## [Advent of code 2017](http://adventofcode.com/2017/)"
   ]
  },
  {
   "cell_type": "code",
   "execution_count": 2,
   "metadata": {
    "collapsed": true
   },
   "outputs": [],
   "source": [
    "import itertools \n",
    "from collections import Counter,defaultdict\n",
    "import re\n",
    "import operator\n",
    "\n",
    "\n",
    "# from itertools recipes\n",
    "def nth(iterable, n, default=None):\n",
    "    \"Returns the nth item or a default value\"\n",
    "    return next(itertools.islice(iterable, n, None), default)\n",
    "\n",
    "# borrowed from Peter Norvig\n",
    "def neighbors8(point): \n",
    "    \"The eight neighbors (with diagonals).\"\n",
    "    x, y = point \n",
    "    return ((x+1, y), (x-1, y), (x, y+1), (x, y-1),\n",
    "            (x+1, y+1), (x-1, y-1), (x+1, y-1), (x-1, y+1))\n",
    "\n",
    "def Input(day):\n",
    "    \"Open this day's input file.\"\n",
    "    filename = 'input{}.txt'.format(day)\n",
    "    with open(filename) as f:\n",
    "        return f.read().strip()"
   ]
  },
  {
   "cell_type": "code",
   "execution_count": 3,
   "metadata": {
    "collapsed": true
   },
   "outputs": [],
   "source": [
    "digits = map(int,Input(1))\n",
    "n = len(digits)"
   ]
  },
  {
   "cell_type": "code",
   "execution_count": 4,
   "metadata": {},
   "outputs": [
    {
     "data": {
      "text/plain": [
       "1141"
      ]
     },
     "execution_count": 4,
     "metadata": {},
     "output_type": "execute_result"
    }
   ],
   "source": [
    "sum(int(digits[i]) for i in range(n) if digits[i] == digits[(i+1) % n]) "
   ]
  },
  {
   "cell_type": "code",
   "execution_count": 5,
   "metadata": {},
   "outputs": [
    {
     "data": {
      "text/plain": [
       "950"
      ]
     },
     "execution_count": 5,
     "metadata": {},
     "output_type": "execute_result"
    }
   ],
   "source": [
    "sum(int(digits[i]) for i in range(n) if digits[i] == digits[(i+(n/2)) % n])  "
   ]
  },
  {
   "cell_type": "markdown",
   "metadata": {},
   "source": [
    "## [Day 2](http://adventofcode.com/2017/day/2)"
   ]
  },
  {
   "cell_type": "code",
   "execution_count": 6,
   "metadata": {
    "collapsed": true
   },
   "outputs": [],
   "source": [
    "table = [map(int,row.split('\\t')) for row in Input(2).split('\\n')]"
   ]
  },
  {
   "cell_type": "code",
   "execution_count": 7,
   "metadata": {},
   "outputs": [
    {
     "data": {
      "text/plain": [
       "32020"
      ]
     },
     "execution_count": 7,
     "metadata": {},
     "output_type": "execute_result"
    }
   ],
   "source": [
    "sum(max(row)-min(row) for row in table)"
   ]
  },
  {
   "cell_type": "code",
   "execution_count": 8,
   "metadata": {
    "collapsed": true
   },
   "outputs": [],
   "source": [
    "def myfun(l):\n",
    "    p=itertools.permutations(l,2)\n",
    "    return sum(m/n for m,n in p if (m%n==0))"
   ]
  },
  {
   "cell_type": "code",
   "execution_count": 9,
   "metadata": {},
   "outputs": [
    {
     "data": {
      "text/plain": [
       "236"
      ]
     },
     "execution_count": 9,
     "metadata": {},
     "output_type": "execute_result"
    }
   ],
   "source": [
    "sum(myfun(row) for row in table)"
   ]
  },
  {
   "cell_type": "markdown",
   "metadata": {},
   "source": [
    "## [Day 3](http://adventofcode.com/2017/day/3)"
   ]
  },
  {
   "cell_type": "code",
   "execution_count": 10,
   "metadata": {
    "collapsed": true
   },
   "outputs": [],
   "source": [
    "def spiral():\n",
    "    x = 0\n",
    "    y = 0\n",
    "    yield (x,y)\n",
    "    length = 1\n",
    "    while True:\n",
    "        # right\n",
    "        for _ in range(length):\n",
    "            x += 1\n",
    "            yield (x,y)\n",
    "        # up\n",
    "        for _ in range(length):\n",
    "            y -= 1\n",
    "            yield (x,y)\n",
    "        length += 1\n",
    "        # left\n",
    "        for _ in range(length):\n",
    "            x -= 1\n",
    "            yield (x,y)\n",
    "        # down\n",
    "        for _ in range(length):\n",
    "            y += 1\n",
    "            yield (x,y)\n",
    "        length +=1\n",
    "        \n",
    "            "
   ]
  },
  {
   "cell_type": "code",
   "execution_count": 11,
   "metadata": {
    "collapsed": true
   },
   "outputs": [],
   "source": [
    "def mdistance(n):\n",
    "    x,y = nth(spiral(),n-1)\n",
    "    return abs(x) + abs(y)"
   ]
  },
  {
   "cell_type": "code",
   "execution_count": 12,
   "metadata": {},
   "outputs": [
    {
     "data": {
      "text/plain": [
       "326"
      ]
     },
     "execution_count": 12,
     "metadata": {},
     "output_type": "execute_result"
    }
   ],
   "source": [
    "mdistance(361527)"
   ]
  },
  {
   "cell_type": "code",
   "execution_count": 13,
   "metadata": {
    "collapsed": true
   },
   "outputs": [],
   "source": [
    "def sumspiral():\n",
    "    sums={(0,0): 1}\n",
    "    sp = spiral()\n",
    "    next(sp)\n",
    "    for square in sp:\n",
    "        s = sum(sums.get(neighbor,0) for neighbor in neighbors8(square))\n",
    "        sums[square] = s\n",
    "        yield s"
   ]
  },
  {
   "cell_type": "code",
   "execution_count": 14,
   "metadata": {},
   "outputs": [
    {
     "data": {
      "text/plain": [
       "363010"
      ]
     },
     "execution_count": 14,
     "metadata": {},
     "output_type": "execute_result"
    }
   ],
   "source": [
    "next(s for s in sumspiral() if s > 361527)"
   ]
  },
  {
   "cell_type": "markdown",
   "metadata": {},
   "source": [
    "## [Day 4](http://adventofcode.com/2017/day/4)"
   ]
  },
  {
   "cell_type": "code",
   "execution_count": 15,
   "metadata": {
    "collapsed": true
   },
   "outputs": [],
   "source": [
    "passphrases = Input(4).split('\\n')"
   ]
  },
  {
   "cell_type": "code",
   "execution_count": 16,
   "metadata": {},
   "outputs": [
    {
     "data": {
      "text/plain": [
       "451"
      ]
     },
     "execution_count": 16,
     "metadata": {},
     "output_type": "execute_result"
    }
   ],
   "source": [
    "sum(all(count == 1 for count in Counter(p.split()).values()) for p in passphrases)\n",
    "# len([p for p in passphrases if len(p.split()) == len(set(p.split()))])"
   ]
  },
  {
   "cell_type": "code",
   "execution_count": 17,
   "metadata": {},
   "outputs": [
    {
     "data": {
      "text/plain": [
       "223"
      ]
     },
     "execution_count": 17,
     "metadata": {},
     "output_type": "execute_result"
    }
   ],
   "source": [
    "sum(all(count == 1 for count in Counter(frozenset(Counter(w).items()) for w in p.split()).values()) for p in passphrases)"
   ]
  },
  {
   "cell_type": "markdown",
   "metadata": {},
   "source": [
    "## [Day 5](http://adventofcode.com/2017/day/5)"
   ]
  },
  {
   "cell_type": "code",
   "execution_count": 18,
   "metadata": {
    "collapsed": true
   },
   "outputs": [],
   "source": [
    "jumps = map(int,Input(5).split(\"\\n\"))"
   ]
  },
  {
   "cell_type": "code",
   "execution_count": 19,
   "metadata": {
    "collapsed": true
   },
   "outputs": [],
   "source": [
    "def trampoline_steps(j):\n",
    "    step = 1\n",
    "    currentpos = 0\n",
    "    maxpos = len(j)-1\n",
    "    while True:\n",
    "        nextpos = currentpos + j[currentpos]\n",
    "        if (nextpos < 0) or (nextpos > maxpos):\n",
    "            return step\n",
    "        j[currentpos] +=1\n",
    "        currentpos = nextpos\n",
    "        step += 1    "
   ]
  },
  {
   "cell_type": "code",
   "execution_count": 20,
   "metadata": {},
   "outputs": [
    {
     "data": {
      "text/plain": [
       "388611"
      ]
     },
     "execution_count": 20,
     "metadata": {},
     "output_type": "execute_result"
    }
   ],
   "source": [
    "trampoline_steps(jumps)"
   ]
  },
  {
   "cell_type": "code",
   "execution_count": 21,
   "metadata": {
    "collapsed": true
   },
   "outputs": [],
   "source": [
    "jumps = map(int,Input(5).split(\"\\n\"))"
   ]
  },
  {
   "cell_type": "code",
   "execution_count": 22,
   "metadata": {
    "collapsed": true
   },
   "outputs": [],
   "source": [
    "def crazier_trampoline_steps(j):\n",
    "    step = 1\n",
    "    currentpos = 0\n",
    "    maxpos = len(j)-1\n",
    "    while True:\n",
    "        nextpos = currentpos + j[currentpos]\n",
    "        if (nextpos < 0) or (nextpos > maxpos):\n",
    "            return step\n",
    "        if abs(j[currentpos] > 2):\n",
    "            j[currentpos] -= 1\n",
    "        else:\n",
    "            j[currentpos] +=1\n",
    "        currentpos = nextpos\n",
    "        step += 1   "
   ]
  },
  {
   "cell_type": "code",
   "execution_count": 23,
   "metadata": {},
   "outputs": [
    {
     "data": {
      "text/plain": [
       "27763113"
      ]
     },
     "execution_count": 23,
     "metadata": {},
     "output_type": "execute_result"
    }
   ],
   "source": [
    "crazier_trampoline_steps(jumps)"
   ]
  },
  {
   "cell_type": "markdown",
   "metadata": {},
   "source": [
    "## [Day 6](http://adventofcode.com/2017/day/6)"
   ]
  },
  {
   "cell_type": "code",
   "execution_count": 24,
   "metadata": {
    "collapsed": true
   },
   "outputs": [],
   "source": [
    "banks = map(int,Input(6).split())\n",
    "#banks=[0, 2, 7, 0]"
   ]
  },
  {
   "cell_type": "code",
   "execution_count": 25,
   "metadata": {
    "collapsed": true
   },
   "outputs": [],
   "source": [
    "def redistribute_banks(l):\n",
    "    n = len(l)\n",
    "    d = max(l)\n",
    "    max_index = l.index(d)\n",
    "    l[max_index] = 0\n",
    "    for i in range(d):\n",
    "        l[(max_index+i+1) % n] += 1\n",
    "    return l"
   ]
  },
  {
   "cell_type": "code",
   "execution_count": 26,
   "metadata": {
    "collapsed": true
   },
   "outputs": [],
   "source": [
    "def find_cycle(l):\n",
    "    seen=set()\n",
    "    count=0\n",
    "    seen.add(tuple(l))\n",
    "    while True:\n",
    "        l = redistribute_banks(l)\n",
    "        count += 1\n",
    "        if tuple(l) in seen:\n",
    "            return count\n",
    "        seen.add(tuple(l)) "
   ]
  },
  {
   "cell_type": "code",
   "execution_count": 27,
   "metadata": {},
   "outputs": [
    {
     "data": {
      "text/plain": [
       "3156"
      ]
     },
     "execution_count": 27,
     "metadata": {},
     "output_type": "execute_result"
    }
   ],
   "source": [
    "find_cycle(banks)"
   ]
  },
  {
   "cell_type": "code",
   "execution_count": 28,
   "metadata": {},
   "outputs": [
    {
     "data": {
      "text/plain": [
       "1610"
      ]
     },
     "execution_count": 28,
     "metadata": {},
     "output_type": "execute_result"
    }
   ],
   "source": [
    "find_cycle(banks)"
   ]
  },
  {
   "cell_type": "markdown",
   "metadata": {},
   "source": [
    "## [Day 7](http://adventofcode.com/2017/day/7)"
   ]
  },
  {
   "cell_type": "code",
   "execution_count": 29,
   "metadata": {
    "collapsed": true
   },
   "outputs": [],
   "source": [
    "rawtree=Input(7).splitlines()\n"
   ]
  },
  {
   "cell_type": "code",
   "execution_count": 30,
   "metadata": {
    "collapsed": true
   },
   "outputs": [],
   "source": [
    "tree = {}\n",
    "weight={}\n",
    "for l in rawtree:\n",
    "    f = re.findall(r\"\\w+\",l)\n",
    "    node = f[0]\n",
    "    weight[node] = int(f[1])\n",
    "    children = f[2:]\n",
    "    tree[node]=children"
   ]
  },
  {
   "cell_type": "code",
   "execution_count": 31,
   "metadata": {},
   "outputs": [
    {
     "data": {
      "text/plain": [
       "{'wiapj'}"
      ]
     },
     "execution_count": 31,
     "metadata": {},
     "output_type": "execute_result"
    }
   ],
   "source": [
    "set(tree.keys()) - {u for l in tree.values() for u in l}"
   ]
  },
  {
   "cell_type": "code",
   "execution_count": 32,
   "metadata": {
    "collapsed": true
   },
   "outputs": [],
   "source": [
    "def towerweight(node):\n",
    "    return weight[node] + sum(towerweight(n) for n in tree[node])"
   ]
  },
  {
   "cell_type": "code",
   "execution_count": 33,
   "metadata": {
    "collapsed": true
   },
   "outputs": [],
   "source": [
    "unbalanced_discs = [n for n in tree if len(Counter(map(towerweight,tree[n]))) > 1]"
   ]
  },
  {
   "cell_type": "code",
   "execution_count": 34,
   "metadata": {
    "collapsed": true
   },
   "outputs": [],
   "source": [
    "# TODO make the solution generic. "
   ]
  },
  {
   "cell_type": "code",
   "execution_count": 35,
   "metadata": {},
   "outputs": [
    {
     "data": {
      "text/plain": [
       "[('wiapj',\n",
       "  [('djzjiwd', 88556),\n",
       "   ('lsire', 88563),\n",
       "   ('vlbivgc', 88556),\n",
       "   ('xdctkbj', 88556),\n",
       "   ('ygvpk', 88556)]),\n",
       " ('lsire', [('locrtxl', 8957), ('shlfz', 8957), ('ycpcv', 8964)]),\n",
       " ('ycpcv',\n",
       "  [('izdhn', 1777),\n",
       "   ('yzhvrx', 1777),\n",
       "   ('eionkb', 1784),\n",
       "   ('eadvs', 1777),\n",
       "   ('jkkqxfr', 1777)])]"
      ]
     },
     "execution_count": 35,
     "metadata": {},
     "output_type": "execute_result"
    }
   ],
   "source": [
    "[(n,zip(tree[n],map(towerweight,tree[n]))) for n in unbalanced_discs]"
   ]
  },
  {
   "cell_type": "code",
   "execution_count": 36,
   "metadata": {},
   "outputs": [
    {
     "data": {
      "text/plain": [
       "1072"
      ]
     },
     "execution_count": 36,
     "metadata": {},
     "output_type": "execute_result"
    }
   ],
   "source": [
    "weight['eionkb']-7"
   ]
  },
  {
   "cell_type": "markdown",
   "metadata": {},
   "source": [
    "## [Day 8](http://adventofcode.com/2017/day/8)"
   ]
  },
  {
   "cell_type": "code",
   "execution_count": 40,
   "metadata": {},
   "outputs": [],
   "source": [
    "program = [l.split() for l in Input(8).splitlines()]"
   ]
  },
  {
   "cell_type": "code",
   "execution_count": 42,
   "metadata": {},
   "outputs": [
    {
     "data": {
      "text/plain": [
       "[['n', 'dec', '271', 'if', 'az', '<', '3'],\n",
       " ['f', 'inc', '-978', 'if', 'nm', '<=', '9'],\n",
       " ['g', 'inc', '-336', 'if', 'ga', '<', '2'],\n",
       " ['egk', 'dec', '437', 'if', 'y', '<', '5'],\n",
       " ['z', 'dec', '-550', 'if', 'g', '==', '-336'],\n",
       " ['mx', 'dec', '12', 'if', 'bqr', '==', '0'],\n",
       " ['mx', 'dec', '433', 'if', 'ns', '==', '0'],\n",
       " ['ic', 'inc', '506', 'if', 'g', '<=', '-327'],\n",
       " ['ga', 'dec', '-560', 'if', 'ic', '!=', '506'],\n",
       " ['bqr', 'dec', '570', 'if', 'az', '>=', '-9'],\n",
       " ['g', 'dec', '372', 'if', 'egk', '!=', '-429'],\n",
       " ['f', 'dec', '-863', 'if', 'b', '>=', '-9'],\n",
       " ['gyc', 'inc', '844', 'if', 'av', '>=', '7'],\n",
       " ['cr', 'inc', '-781', 'if', 'mx', '>=', '-453'],\n",
       " ['ga', 'dec', '346', 'if', 'cr', '==', '-781'],\n",
       " ['b', 'inc', '-162', 'if', 'z', '<', '554'],\n",
       " ['nno', 'inc', '504', 'if', 'g', '<=', '-700'],\n",
       " ['mx', 'dec', '-32', 'if', 'vkg', '<=', '6'],\n",
       " ['mx', 'dec', '-961', 'if', 'nno', '<', '509'],\n",
       " ['az', 'dec', '320', 'if', 'ic', '<', '510'],\n",
       " ['nm', 'dec', '594', 'if', 'ga', '!=', '-354'],\n",
       " ['cr', 'inc', '-784', 'if', 'az', '<=', '-311'],\n",
       " ['bqr', 'inc', '-321', 'if', 'mx', '>', '547'],\n",
       " ['y', 'inc', '-951', 'if', 'egk', '>', '-438'],\n",
       " ['y', 'inc', '703', 'if', 'y', '<=', '-950'],\n",
       " ['vkg', 'inc', '-852', 'if', 'g', '>', '-716'],\n",
       " ['n', 'dec', '-596', 'if', 'az', '<', '-316'],\n",
       " ['n', 'dec', '410', 'if', 'e', '<=', '4'],\n",
       " ['f', 'inc', '-693', 'if', 'ic', '<=', '510'],\n",
       " ['egk', 'dec', '498', 'if', 'zqo', '!=', '7'],\n",
       " ['rn', 'inc', '626', 'if', 'u', '==', '0'],\n",
       " ['bqr', 'dec', '-770', 'if', 'bqr', '>', '-898'],\n",
       " ['n', 'dec', '193', 'if', 'ic', '==', '506'],\n",
       " ['egk', 'inc', '-263', 'if', 'e', '==', '0'],\n",
       " ['cr', 'dec', '-473', 'if', 'mx', '<=', '554'],\n",
       " ['vkg', 'inc', '667', 'if', 'e', '!=', '10'],\n",
       " ['ga', 'dec', '793', 'if', 'v', '<=', '5'],\n",
       " ['f', 'dec', '-673', 'if', 'v', '!=', '0'],\n",
       " ['g', 'inc', '797', 'if', 'g', '>=', '-708'],\n",
       " ['n', 'inc', '361', 'if', 'v', '==', '0'],\n",
       " ['y', 'inc', '399', 'if', 'zqo', '==', '0'],\n",
       " ['av', 'dec', '-894', 'if', 'zqo', '==', '0'],\n",
       " ['az', 'dec', '785', 'if', 'z', '<=', '559'],\n",
       " ['y', 'inc', '-121', 'if', 'nm', '<', '-593'],\n",
       " ['v', 'inc', '873', 'if', 'vkg', '>', '-189'],\n",
       " ['ns', 'inc', '-205', 'if', 'n', '>=', '80'],\n",
       " ['cr', 'dec', '452', 'if', 'ns', '!=', '-202'],\n",
       " ['nm', 'dec', '-35', 'if', 'f', '<', '-799'],\n",
       " ['ic', 'inc', '790', 'if', 'zqo', '>', '3'],\n",
       " ['gyc', 'dec', '456', 'if', 'nm', '<=', '-565'],\n",
       " ['rn', 'inc', '198', 'if', 'y', '!=', '32'],\n",
       " ['y', 'dec', '-917', 'if', 'f', '==', '-806'],\n",
       " ['e', 'dec', '-694', 'if', 'zqo', '!=', '7'],\n",
       " ['nno', 'inc', '676', 'if', 'rn', '<', '825'],\n",
       " ['u', 'inc', '414', 'if', 'ns', '>=', '-213'],\n",
       " ['f', 'dec', '-405', 'if', 'bqr', '<=', '-113'],\n",
       " ['g', 'dec', '456', 'if', 'ga', '>', '-1145'],\n",
       " ['by', 'inc', '613', 'if', 'nno', '!=', '1185'],\n",
       " ['n', 'dec', '414', 'if', 'ga', '>=', '-1131'],\n",
       " ['ga', 'dec', '844', 'if', 'u', '<=', '418'],\n",
       " ['av', 'dec', '-404', 'if', 'ga', '>=', '-1974'],\n",
       " ['g', 'dec', '-171', 'if', 'ns', '>', '-208'],\n",
       " ['av', 'dec', '-302', 'if', 'f', '==', '-403'],\n",
       " ['ic', 'inc', '-935', 'if', 'y', '>=', '30'],\n",
       " ['u', 'inc', '-807', 'if', 'bqr', '>', '-126'],\n",
       " ['az', 'inc', '-536', 'if', 'v', '>=', '865'],\n",
       " ['vkg', 'dec', '-77', 'if', 'vkg', '==', '-185'],\n",
       " ['n', 'dec', '209', 'if', 'n', '==', '83'],\n",
       " ['u', 'inc', '-92', 'if', 'y', '>=', '26'],\n",
       " ['ic', 'dec', '43', 'if', 'u', '!=', '-491'],\n",
       " ['ic', 'inc', '701', 'if', 'z', '==', '550'],\n",
       " ['bqr', 'inc', '-473', 'if', 'e', '!=', '699'],\n",
       " ['av', 'dec', '-44', 'if', 'egk', '!=', '-1198'],\n",
       " ['e', 'dec', '134', 'if', 'ga', '==', '-1974'],\n",
       " ['v', 'dec', '479', 'if', 'mx', '<=', '544'],\n",
       " ['n', 'inc', '-748', 'if', 'y', '>=', '21'],\n",
       " ['bqr', 'inc', '726', 'if', 'u', '>=', '-492'],\n",
       " ['z', 'dec', '-368', 'if', 'ns', '==', '-205'],\n",
       " ['y', 'inc', '-296', 'if', 'e', '>=', '694'],\n",
       " ['f', 'inc', '271', 'if', 'nno', '>=', '1177'],\n",
       " ['y', 'dec', '-881', 'if', 'cr', '<', '-1535'],\n",
       " ['nno', 'inc', '-493', 'if', 'az', '>', '-1649'],\n",
       " ['z', 'dec', '-434', 'if', 'v', '!=', '882'],\n",
       " ['bqr', 'inc', '783', 'if', 'e', '<=', '694'],\n",
       " ['gyc', 'inc', '930', 'if', 'gyc', '!=', '-1'],\n",
       " ['nm', 'dec', '-712', 'if', 'e', '<', '696'],\n",
       " ['mx', 'inc', '-342', 'if', 'nno', '>', '685'],\n",
       " ['av', 'inc', '-292', 'if', 'gyc', '>', '927'],\n",
       " ['rn', 'inc', '-269', 'if', 'rn', '<=', '831'],\n",
       " ['vkg', 'dec', '-799', 'if', 'nno', '==', '687'],\n",
       " ['v', 'inc', '31', 'if', 'vkg', '<', '694'],\n",
       " ['egk', 'dec', '-227', 'if', 'v', '!=', '913'],\n",
       " ['ga', 'inc', '-248', 'if', 'u', '==', '-485'],\n",
       " ['ga', 'dec', '-655', 'if', 'ic', '>=', '228'],\n",
       " ['nm', 'inc', '335', 'if', 'by', '!=', '613'],\n",
       " ['av', 'inc', '251', 'if', 'u', '>=', '-477'],\n",
       " ['bqr', 'inc', '834', 'if', 'ns', '>=', '-209'],\n",
       " ['gyc', 'dec', '-580', 'if', 'rn', '>', '549'],\n",
       " ['u', 'dec', '390', 'if', 'e', '<', '701'],\n",
       " ['cr', 'inc', '-936', 'if', 'b', '>', '-170'],\n",
       " ['nm', 'dec', '-60', 'if', 'g', '<', '-188'],\n",
       " ['ic', 'inc', '-226', 'if', 'by', '<', '615'],\n",
       " ['y', 'dec', '-698', 'if', 'zqo', '!=', '0'],\n",
       " ['vkg', 'inc', '-938', 'if', 'av', '==', '904'],\n",
       " ['vkg', 'inc', '-131', 'if', 'zqo', '==', '0'],\n",
       " ['y', 'inc', '-792', 'if', 'zqo', '<', '-3'],\n",
       " ['gyc', 'dec', '-43', 'if', 'ns', '<', '-211'],\n",
       " ['ga', 'dec', '783', 'if', 'az', '<=', '-1637'],\n",
       " ['az', 'inc', '-359', 'if', 'cr', '<=', '-2479'],\n",
       " ['e', 'inc', '-117', 'if', 'v', '!=', '908'],\n",
       " ['rn', 'inc', '231', 'if', 'av', '<', '898'],\n",
       " ['nno', 'inc', '-594', 'if', 'z', '!=', '1354'],\n",
       " ['egk', 'inc', '-119', 'if', 'b', '>=', '-170'],\n",
       " ['mx', 'dec', '866', 'if', 'mx', '!=', '214'],\n",
       " ['g', 'inc', '-688', 'if', 'mx', '<', '-655'],\n",
       " ['ga', 'inc', '451', 'if', 'z', '<=', '1352'],\n",
       " ['bqr', 'inc', '315', 'if', 'g', '!=', '-876'],\n",
       " ['vkg', 'dec', '-636', 'if', 'egk', '!=', '-1090'],\n",
       " ['bqr', 'inc', '-395', 'if', 'by', '<', '610'],\n",
       " ['mx', 'inc', '914', 'if', 'ga', '<', '-1908'],\n",
       " ['by', 'dec', '-623', 'if', 'egk', '>', '-1090'],\n",
       " ['ns', 'dec', '219', 'if', 'vkg', '>=', '-380'],\n",
       " ['egk', 'dec', '-976', 'if', 'av', '>=', '896'],\n",
       " ['egk', 'dec', '-681', 'if', 'ic', '!=', '-1'],\n",
       " ['vkg', 'inc', '971', 'if', 'nno', '<', '101'],\n",
       " ['nno', 'dec', '490', 'if', 'bqr', '>', '2060'],\n",
       " ['u', 'inc', '479', 'if', 'z', '<=', '1358'],\n",
       " ['z', 'dec', '-552', 'if', 'nno', '<', '-389'],\n",
       " ['y', 'inc', '696', 'if', 'nno', '<=', '-405'],\n",
       " ['nm', 'dec', '876', 'if', 'nno', '>=', '-399'],\n",
       " ['f', 'dec', '197', 'if', 'nm', '>', '-670'],\n",
       " ['f', 'inc', '584', 'if', 'e', '<=', '575'],\n",
       " ['av', 'dec', '-548', 'if', 'y', '<=', '616'],\n",
       " ['cr', 'dec', '-975', 'if', 'mx', '>=', '-664'],\n",
       " ['vkg', 'dec', '-532', 'if', 'egk', '>', '567'],\n",
       " ['cr', 'inc', '115', 'if', 'zqo', '<=', '2'],\n",
       " ['e', 'inc', '315', 'if', 'nm', '<=', '-663'],\n",
       " ['e', 'inc', '-850', 'if', 'ns', '>', '-430'],\n",
       " ['vkg', 'inc', '-72', 'if', 'z', '<', '1906'],\n",
       " ['b', 'inc', '7', 'if', 'y', '!=', '618'],\n",
       " ['cr', 'dec', '-270', 'if', 'by', '<', '613'],\n",
       " ['v', 'inc', '505', 'if', 'ns', '>', '-430'],\n",
       " ['ga', 'dec', '51', 'if', 'nm', '!=', '-670'],\n",
       " ['z', 'dec', '-657', 'if', 'zqo', '<=', '1'],\n",
       " ['u', 'inc', '-777', 'if', 'nm', '==', '-663'],\n",
       " ['y', 'dec', '-37', 'if', 'nno', '<', '-396'],\n",
       " ['gyc', 'inc', '62', 'if', 'f', '<', '-322'],\n",
       " ['z', 'inc', '-565', 'if', 'az', '>', '-1996'],\n",
       " ['e', 'dec', '-223', 'if', 'vkg', '<=', '516'],\n",
       " ['nno', 'inc', '481', 'if', 'e', '==', '34'],\n",
       " ['rn', 'inc', '316', 'if', 'nno', '>=', '-406'],\n",
       " ['e', 'dec', '531', 'if', 'ns', '<=', '-423'],\n",
       " ['vkg', 'inc', '-940', 'if', 'v', '>=', '1408'],\n",
       " ['by', 'inc', '935', 'if', 'b', '<=', '-152'],\n",
       " ['rn', 'inc', '254', 'if', 'ns', '<', '-416'],\n",
       " ['gyc', 'dec', '822', 'if', 'zqo', '>', '-6'],\n",
       " ['n', 'inc', '334', 'if', 'b', '<', '-155'],\n",
       " ['by', 'inc', '987', 'if', 'nno', '==', '-397'],\n",
       " ['gyc', 'dec', '-701', 'if', 'ic', '>=', '-6'],\n",
       " ['nno', 'inc', '-764', 'if', 'z', '<=', '2568'],\n",
       " ['nno', 'inc', '-541', 'if', 'mx', '==', '-660'],\n",
       " ['ns', 'dec', '-327', 'if', 'ns', '!=', '-424'],\n",
       " ['z', 'inc', '-328', 'if', 'bqr', '==', '2064'],\n",
       " ['cr', 'inc', '550', 'if', 'cr', '!=', '-1385'],\n",
       " ['ga', 'dec', '-441', 'if', 'rn', '<=', '1123'],\n",
       " ['gyc', 'inc', '-461', 'if', 'zqo', '==', '0'],\n",
       " ['egk', 'dec', '554', 'if', 'ic', '<', '-6'],\n",
       " ['av', 'inc', '300', 'if', 'zqo', '==', '0'],\n",
       " ['nno', 'dec', '324', 'if', 'av', '<=', '1754'],\n",
       " ['y', 'dec', '235', 'if', 'b', '>', '-165'],\n",
       " ['rn', 'inc', '-1', 'if', 'v', '<', '1415'],\n",
       " ['b', 'dec', '230', 'if', 'y', '>', '413'],\n",
       " ['mx', 'inc', '-836', 'if', 'b', '<=', '-384'],\n",
       " ['av', 'dec', '464', 'if', 'zqo', '!=', '-7'],\n",
       " ['rn', 'inc', '208', 'if', 'egk', '>=', '563'],\n",
       " ['e', 'dec', '385', 'if', 'v', '>=', '1413'],\n",
       " ['g', 'dec', '-443', 'if', 'z', '<', '2240'],\n",
       " ['v', 'dec', '296', 'if', 'nno', '<', '-2027'],\n",
       " ['nm', 'dec', '394', 'if', 'az', '!=', '-1992'],\n",
       " ['u', 'dec', '609', 'if', 'nno', '==', '-2026'],\n",
       " ['nno', 'dec', '-178', 'if', 'ns', '>', '-428'],\n",
       " ['f', 'dec', '-340', 'if', 'z', '>=', '2231'],\n",
       " ['e', 'dec', '124', 'if', 'u', '>', '-1783'],\n",
       " ['bqr', 'dec', '-221', 'if', 'bqr', '==', '2064'],\n",
       " ['rn', 'dec', '-427', 'if', 'by', '!=', '2539'],\n",
       " ['n', 'dec', '-242', 'if', 'cr', '==', '-840'],\n",
       " ['az', 'dec', '267', 'if', 'y', '<', '418'],\n",
       " ['by', 'inc', '737', 'if', 'cr', '<=', '-833'],\n",
       " ['rn', 'inc', '-938', 'if', 'ic', '>=', '1'],\n",
       " ['az', 'inc', '181', 'if', 'zqo', '>=', '-6'],\n",
       " ['f', 'inc', '-874', 'if', 'z', '>=', '2233'],\n",
       " ['cr', 'inc', '-867', 'if', 'vkg', '<=', '-414'],\n",
       " ['mx', 'inc', '424', 'if', 'ic', '>=', '-6'],\n",
       " ['f', 'inc', '-125', 'if', 'g', '<=', '-435'],\n",
       " ['az', 'inc', '30', 'if', 'n', '<', '-625'],\n",
       " ['av', 'inc', '-575', 'if', 'y', '<', '418'],\n",
       " ['ga', 'dec', '-726', 'if', 'ns', '<=', '-418'],\n",
       " ['u', 'dec', '1000', 'if', 'b', '>=', '-393'],\n",
       " ['ns', 'inc', '-88', 'if', 'av', '<', '720'],\n",
       " ['ns', 'inc', '-80', 'if', 'f', '<', '-983'],\n",
       " ['z', 'dec', '73', 'if', 'e', '!=', '-613'],\n",
       " ['bqr', 'dec', '350', 'if', 'nm', '>', '-1065'],\n",
       " ['az', 'inc', '247', 'if', 'gyc', '>', '980'],\n",
       " ['v', 'dec', '-156', 'if', 'g', '!=', '-435'],\n",
       " ['mx', 'inc', '32', 'if', 'f', '>', '-996'],\n",
       " ['b', 'dec', '349', 'if', 'mx', '<', '-1032'],\n",
       " ['mx', 'dec', '-934', 'if', 'nm', '!=', '-1067'],\n",
       " ['ga', 'inc', '-502', 'if', 'egk', '<', '573'],\n",
       " ['gyc', 'inc', '-106', 'if', 'nm', '==', '-1057'],\n",
       " ['ga', 'inc', '669', 'if', 'mx', '!=', '-102'],\n",
       " ['nno', 'dec', '-335', 'if', 'g', '>=', '-438'],\n",
       " ['g', 'dec', '-757', 'if', 'v', '!=', '1566'],\n",
       " ['cr', 'dec', '-887', 'if', 'z', '==', '2233'],\n",
       " ['rn', 'dec', '-768', 'if', 'by', '<', '3280'],\n",
       " ['bqr', 'dec', '-289', 'if', 'gyc', '<', '890'],\n",
       " ['u', 'inc', '817', 'if', 'by', '>', '3265'],\n",
       " ['nm', 'dec', '-136', 'if', 'by', '<=', '3270'],\n",
       " ['b', 'dec', '192', 'if', 'y', '==', '417'],\n",
       " ['f', 'inc', '-787', 'if', 'b', '<=', '-929'],\n",
       " ['f', 'dec', '188', 'if', 'f', '==', '-988'],\n",
       " ['cr', 'inc', '-488', 'if', 'nno', '!=', '-1846'],\n",
       " ['nno', 'inc', '-116', 'if', 'az', '>', '-1807'],\n",
       " ['cr', 'inc', '899', 'if', 'by', '<', '3278'],\n",
       " ['nno', 'dec', '-454', 'if', 'b', '>=', '-928'],\n",
       " ['f', 'dec', '237', 'if', 'cr', '!=', '-409'],\n",
       " ['e', 'inc', '-910', 'if', 'b', '!=', '-926'],\n",
       " ['zqo', 'dec', '-710', 'if', 'egk', '>', '564'],\n",
       " ['v', 'dec', '651', 'if', 'cr', '!=', '-407'],\n",
       " ['z', 'inc', '45', 'if', 'ic', '<', '10'],\n",
       " ['rn', 'inc', '-16', 'if', 'n', '>', '-633'],\n",
       " ['u', 'dec', '-433', 'if', 'n', '!=', '-636'],\n",
       " ['z', 'inc', '-55', 'if', 'vkg', '>=', '-425'],\n",
       " ['y', 'inc', '536', 'if', 'v', '<=', '916'],\n",
       " ['nm', 'dec', '269', 'if', 'cr', '==', '-409'],\n",
       " ['vkg', 'inc', '-811', 'if', 'gyc', '>', '875'],\n",
       " ['y', 'inc', '-269', 'if', 'rn', '<=', '1576'],\n",
       " ['rn', 'inc', '-445', 'if', 'av', '>=', '709'],\n",
       " ['av', 'inc', '-131', 'if', 'ic', '!=', '1'],\n",
       " ['egk', 'dec', '-35', 'if', 'y', '<=', '687'],\n",
       " ['mx', 'dec', '-947', 'if', 'nm', '==', '-1326'],\n",
       " ['bqr', 'inc', '-296', 'if', 'nno', '>=', '-1399'],\n",
       " ['vkg', 'inc', '-176', 'if', 'az', '==', '-1809'],\n",
       " ['z', 'inc', '-7', 'if', 'ga', '<=', '-1058'],\n",
       " ['v', 'dec', '-105', 'if', 'v', '!=', '908'],\n",
       " ['by', 'dec', '-935', 'if', 'g', '>', '315'],\n",
       " ['y', 'dec', '-674', 'if', 'rn', '<=', '1132'],\n",
       " ['ga', 'dec', '-482', 'if', 'v', '<=', '1026'],\n",
       " ['nm', 'dec', '500', 'if', 'f', '>=', '-1176'],\n",
       " ['by', 'dec', '653', 'if', 'f', '<', '-1177'],\n",
       " ['cr', 'dec', '156', 'if', 'mx', '==', '841'],\n",
       " ['ns', 'inc', '446', 'if', 'u', '>', '-1535'],\n",
       " ['e', 'inc', '256', 'if', 'mx', '<', '840'],\n",
       " ['av', 'dec', '-883', 'if', 'nm', '==', '-1826'],\n",
       " ['gyc', 'inc', '204', 'if', 'by', '<', '4198'],\n",
       " ['g', 'dec', '158', 'if', 'av', '>', '1456'],\n",
       " ['z', 'dec', '-314', 'if', 'av', '<=', '1466'],\n",
       " ['egk', 'inc', '-367', 'if', 'cr', '>', '-568'],\n",
       " ['by', 'dec', '-847', 'if', 'f', '<=', '-1171'],\n",
       " ['f', 'dec', '-361', 'if', 'z', '<', '2532'],\n",
       " ['z', 'dec', '647', 'if', 'ns', '==', '-146'],\n",
       " ['z', 'inc', '-416', 'if', 'z', '<=', '1892'],\n",
       " ['e', 'dec', '138', 'if', 'cr', '<=', '-571'],\n",
       " ['ic', 'inc', '-393', 'if', 'gyc', '<', '891'],\n",
       " ['zqo', 'dec', '338', 'if', 'e', '<', '-605'],\n",
       " ['zqo', 'dec', '-644', 'if', 'ic', '==', '-390'],\n",
       " ['ns', 'inc', '-790', 'if', 'b', '!=', '-917'],\n",
       " ['az', 'dec', '136', 'if', 'av', '==', '1465'],\n",
       " ['nm', 'inc', '971', 'if', 'gyc', '!=', '884'],\n",
       " ['av', 'inc', '171', 'if', 'ic', '!=', '-390'],\n",
       " ['u', 'inc', '-715', 'if', 'zqo', '<=', '1024'],\n",
       " ['av', 'inc', '27', 'if', 'zqo', '!=', '1021'],\n",
       " ['n', 'inc', '845', 'if', 'zqo', '<', '1023'],\n",
       " ['cr', 'inc', '-576', 'if', 'v', '==', '1019'],\n",
       " ['y', 'inc', '456', 'if', 'ga', '>=', '-583'],\n",
       " ['mx', 'dec', '843', 'if', 'f', '>', '-823'],\n",
       " ['v', 'dec', '-589', 'if', 'ns', '!=', '-926'],\n",
       " ['e', 'dec', '-797', 'if', 'nno', '>', '-1395'],\n",
       " ['g', 'dec', '828', 'if', 'bqr', '>=', '1925'],\n",
       " ['vkg', 'inc', '176', 'if', 'az', '>', '-1949'],\n",
       " ['nno', 'inc', '261', 'if', 'zqo', '<', '1017'],\n",
       " ['f', 'inc', '-429', 'if', 'b', '==', '-926'],\n",
       " ['f', 'dec', '658', 'if', 'mx', '==', '-2'],\n",
       " ['e', 'dec', '-221', 'if', 'gyc', '<', '890'],\n",
       " ['y', 'dec', '362', 'if', 'v', '<', '1605'],\n",
       " ['rn', 'inc', '849', 'if', 'v', '!=', '1610'],\n",
       " ['b', 'inc', '-650', 'if', 'y', '<=', '1363'],\n",
       " ['ic', 'inc', '39', 'if', 'g', '!=', '-668'],\n",
       " ['by', 'dec', '-365', 'if', 'u', '>', '-2248'],\n",
       " ['nm', 'dec', '779', 'if', 'u', '==', '-2247'],\n",
       " ['nm', 'inc', '-482', 'if', 'cr', '<=', '-1137'],\n",
       " ['ns', 'dec', '-873', 'if', 'nm', '==', '-3087'],\n",
       " ['e', 'dec', '-993', 'if', 'rn', '<=', '1979'],\n",
       " ['vkg', 'dec', '291', 'if', 'n', '<=', '220'],\n",
       " ['nno', 'inc', '937', 'if', 'nno', '>', '-1139'],\n",
       " ['bqr', 'inc', '-321', 'if', 'b', '<=', '-1570'],\n",
       " ['av', 'inc', '86', 'if', 'v', '<', '1612'],\n",
       " ['by', 'inc', '872', 'if', 'gyc', '>', '878'],\n",
       " ['egk', 'inc', '858', 'if', 'bqr', '>', '1603'],\n",
       " ['e', 'inc', '-199', 'if', 'ns', '<=', '-62'],\n",
       " ['az', 'dec', '600', 'if', 'v', '>=', '1615'],\n",
       " ['nno', 'inc', '-115', 'if', 'g', '<', '-660'],\n",
       " ['ga', 'inc', '614', 'if', 'f', '>', '-1910'],\n",
       " ['g', 'inc', '950', 'if', 'zqo', '>', '1009'],\n",
       " ['f', 'dec', '-319', 'if', 'cr', '==', '-1141'],\n",
       " ['gyc', 'dec', '498', 'if', 'nm', '<=', '-3078'],\n",
       " ['u', 'inc', '61', 'if', 'z', '!=', '1464'],\n",
       " ['av', 'inc', '127', 'if', 'zqo', '>', '1012'],\n",
       " ['ic', 'inc', '-78', 'if', 'f', '<', '-1573'],\n",
       " ['b', 'dec', '-601', 'if', 'nm', '<=', '-3082'],\n",
       " ['av', 'inc', '-475', 'if', 'gyc', '<', '396'],\n",
       " ['av', 'dec', '613', 'if', 'gyc', '<', '383'],\n",
       " ['vkg', 'inc', '425', 'if', 'rn', '<=', '1981'],\n",
       " ['nno', 'inc', '543', 'if', 'az', '>=', '-1946'],\n",
       " ['rn', 'dec', '280', 'if', 'vkg', '>=', '-1096'],\n",
       " ['ns', 'dec', '-366', 'if', 'gyc', '<=', '388'],\n",
       " ['v', 'dec', '-558', 'if', 'egk', '==', '1093'],\n",
       " ['vkg', 'inc', '-446', 'if', 'ns', '<=', '301'],\n",
       " ['y', 'dec', '617', 'if', 'b', '<=', '-970'],\n",
       " ['n', 'dec', '-890', 'if', 'az', '!=', '-1947'],\n",
       " ['vkg', 'dec', '-102', 'if', 'nm', '!=', '-3092'],\n",
       " ['e', 'inc', '-668', 'if', 'ga', '<', '33'],\n",
       " ['zqo', 'inc', '-305', 'if', 'e', '>=', '529'],\n",
       " ['vkg', 'inc', '-97', 'if', 'vkg', '!=', '-997'],\n",
       " ['rn', 'inc', '188', 'if', 'nm', '<', '-3087'],\n",
       " ['cr', 'dec', '613', 'if', 'rn', '<', '1700'],\n",
       " ['v', 'dec', '647', 'if', 'g', '<', '284'],\n",
       " ['az', 'dec', '-205', 'if', 'e', '==', '531'],\n",
       " ['av', 'inc', '-359', 'if', 'vkg', '==', '-1091'],\n",
       " ['y', 'dec', '252', 'if', 'ns', '>=', '301'],\n",
       " ['n', 'inc', '251', 'if', 'f', '!=', '-1593'],\n",
       " ['mx', 'inc', '438', 'if', 'gyc', '<', '385'],\n",
       " ['by', 'dec', '-984', 'if', 'nm', '!=', '-3087'],\n",
       " ['mx', 'dec', '354', 'if', 'ic', '<', '-425'],\n",
       " ['by', 'dec', '395', 'if', 'ns', '>', '298'],\n",
       " ['egk', 'inc', '119', 'if', 'b', '==', '-966'],\n",
       " ['gyc', 'inc', '-887', 'if', 'vkg', '==', '-1091'],\n",
       " ['rn', 'inc', '898', 'if', 'ga', '!=', '30'],\n",
       " ['mx', 'dec', '35', 'if', 'y', '>=', '485'],\n",
       " ['e', 'inc', '889', 'if', 'ns', '!=', '300'],\n",
       " ['ga', 'dec', '992', 'if', 'b', '>', '-968'],\n",
       " ['g', 'dec', '432', 'if', 'cr', '>', '-1755'],\n",
       " ['nno', 'dec', '-669', 'if', 'gyc', '>', '-504'],\n",
       " ['bqr', 'inc', '-442', 'if', 'rn', '==', '1697'],\n",
       " ['u', 'inc', '-44', 'if', 'b', '>', '-976'],\n",
       " ['u', 'inc', '5', 'if', 'gyc', '<=', '-497'],\n",
       " ['gyc', 'inc', '36', 'if', 'ns', '<=', '304'],\n",
       " ['nm', 'inc', '-528', 'if', 'b', '>=', '-973'],\n",
       " ['y', 'inc', '-617', 'if', 'mx', '<=', '-400'],\n",
       " ['g', 'dec', '47', 'if', 'e', '>=', '1418'],\n",
       " ['b', 'inc', '292', 'if', 'egk', '!=', '1083'],\n",
       " ['vkg', 'inc', '734', 'if', 'ga', '<=', '30'],\n",
       " ['n', 'inc', '-678', 'if', 'b', '!=', '-691'],\n",
       " ['ic', 'dec', '581', 'if', 'vkg', '>=', '-365'],\n",
       " ['u', 'dec', '562', 'if', 'b', '==', '-683'],\n",
       " ['nno', 'dec', '751', 'if', 'cr', '>', '-1757'],\n",
       " ['egk', 'inc', '709', 'if', 'gyc', '!=', '-461'],\n",
       " ['n', 'inc', '-347', 'if', 'rn', '==', '1697'],\n",
       " ['gyc', 'inc', '960', 'if', 'cr', '<=', '-1751'],\n",
       " ['z', 'dec', '627', 'if', 'ns', '<', '310'],\n",
       " ['gyc', 'dec', '-190', 'if', 'z', '<', '842'],\n",
       " ['v', 'inc', '868', 'if', 'mx', '==', '-398'],\n",
       " ['n', 'inc', '-280', 'if', 'b', '!=', '-683'],\n",
       " ['n', 'inc', '-302', 'if', 'e', '==', '1420'],\n",
       " ['av', 'dec', '-389', 'if', 'g', '!=', '-209'],\n",
       " ['nm', 'inc', '241', 'if', 'ic', '==', '-1018'],\n",
       " ['n', 'inc', '-493', 'if', 'nno', '<=', '157'],\n",
       " ['f', 'dec', '-932', 'if', 'n', '==', '-466'],\n",
       " ['u', 'inc', '-880', 'if', 'y', '>=', '480'],\n",
       " ['y', 'dec', '-697', 'if', 'egk', '<', '1807'],\n",
       " ['az', 'dec', '332', 'if', 'nno', '!=', '149'],\n",
       " ['g', 'dec', '971', 'if', 'z', '<=', '848'],\n",
       " ['by', 'inc', '-510', 'if', 'z', '>=', '849'],\n",
       " ['u', 'inc', '103', 'if', 'bqr', '<', '1161'],\n",
       " ['av', 'inc', '-830', 'if', 'gyc', '>', '678'],\n",
       " ['rn', 'inc', '110', 'if', 'ns', '<', '306'],\n",
       " ['b', 'dec', '616', 'if', 'ga', '<', '40'],\n",
       " ['egk', 'inc', '-749', 'if', 'y', '<=', '1176'],\n",
       " ['z', 'inc', '669', 'if', 'ns', '!=', '301'],\n",
       " ['n', 'dec', '365', 'if', 'nno', '>=', '152'],\n",
       " ['ns', 'inc', '-464', 'if', 'egk', '>', '1801'],\n",
       " ['e', 'inc', '-516', 'if', 'by', '>', '5894'],\n",
       " ['bqr', 'inc', '934', 'if', 'g', '<', '-1165'],\n",
       " ['nno', 'inc', '224', 'if', 'cr', '<', '-1744'],\n",
       " ['f', 'inc', '-480', 'if', 'n', '>=', '-456'],\n",
       " ['gyc', 'inc', '101', 'if', 'g', '>', '-1168'],\n",
       " ['cr', 'inc', '501', 'if', 'e', '==', '905'],\n",
       " ['z', 'dec', '-836', 'if', 'f', '<', '-643'],\n",
       " ['ic', 'dec', '750', 'if', 'rn', '!=', '1808'],\n",
       " ['u', 'dec', '-318', 'if', 'gyc', '<=', '687'],\n",
       " ['ga', 'inc', '-631', 'if', 'av', '>=', '430'],\n",
       " ['nno', 'inc', '-261', 'if', 'ga', '>', '-606'],\n",
       " ['b', 'dec', '723', 'if', 'by', '>=', '5889'],\n",
       " ['ns', 'inc', '-109', 'if', 'bqr', '!=', '2095'],\n",
       " ['cr', 'dec', '731', 'if', 'e', '>=', '903'],\n",
       " ['nno', 'dec', '-251', 'if', 'b', '>=', '-2024'],\n",
       " ['mx', 'dec', '-206', 'if', 'rn', '>', '1810'],\n",
       " ['ns', 'dec', '249', 'if', 'rn', '>', '1799'],\n",
       " ['u', 'inc', '201', 'if', 'egk', '<', '1809'],\n",
       " ['vkg', 'dec', '283', 'if', 'z', '>', '2338'],\n",
       " ['rn', 'dec', '-759', 'if', 'u', '>=', '-3141'],\n",
       " ['f', 'dec', '540', 'if', 'y', '!=', '1186'],\n",
       " ['by', 'dec', '-523', 'if', 'z', '==', '2345'],\n",
       " ['by', 'inc', '-894', 'if', 'ga', '>', '-608'],\n",
       " ['rn', 'inc', '-418', 'if', 'cr', '>=', '-2489'],\n",
       " ['bqr', 'inc', '-837', 'if', 'nno', '>', '361'],\n",
       " ['cr', 'inc', '-485', 'if', 'zqo', '==', '711'],\n",
       " ['y', 'dec', '-672', 'if', 'nno', '==', '364'],\n",
       " ['g', 'inc', '159', 'if', 'nm', '==', '-3087'],\n",
       " ['vkg', 'inc', '873', 'if', 'az', '>=', '-2074'],\n",
       " ['b', 'inc', '83', 'if', 'z', '!=', '2347'],\n",
       " ['gyc', 'inc', '321', 'if', 'e', '<', '904'],\n",
       " ['e', 'dec', '283', 'if', 'gyc', '<', '689'],\n",
       " ['f', 'dec', '257', 'if', 'b', '>=', '-1948'],\n",
       " ['by', 'inc', '-526', 'if', 'az', '<', '-2063'],\n",
       " ['cr', 'dec', '119', 'if', 'b', '==', '-1939'],\n",
       " ['e', 'inc', '-534', 'if', 'g', '<=', '-1016'],\n",
       " ['bqr', 'dec', '923', 'if', 'av', '==', '430'],\n",
       " ['gyc', 'dec', '513', 'if', 'bqr', '>', '334'],\n",
       " ['u', 'inc', '-756', 'if', 'z', '>', '2339'],\n",
       " ['nm', 'dec', '343', 'if', 'gyc', '>=', '165'],\n",
       " ['bqr', 'inc', '-114', 'if', 'ga', '<=', '-601'],\n",
       " ['gyc', 'inc', '355', 'if', 'cr', '>=', '-3091'],\n",
       " ['gyc', 'dec', '-458', 'if', 'mx', '>=', '-398'],\n",
       " ['by', 'dec', '24', 'if', 'v', '!=', '1519'],\n",
       " ['cr', 'inc', '-155', 'if', 'v', '<=', '1526'],\n",
       " ['v', 'dec', '512', 'if', 'av', '>=', '427'],\n",
       " ['f', 'dec', '297', 'if', 'f', '>', '-911'],\n",
       " ['nno', 'dec', '783', 'if', 'ns', '<=', '-524'],\n",
       " ['az', 'inc', '985', 'if', 'ga', '>', '-592'],\n",
       " ['cr', 'inc', '300', 'if', 'egk', '>=', '1800'],\n",
       " ['vkg', 'dec', '542', 'if', 'mx', '==', '-391'],\n",
       " ['zqo', 'dec', '-844', 'if', 'bqr', '==', '218'],\n",
       " ['av', 'inc', '860', 'if', 'gyc', '==', '985'],\n",
       " ['nno', 'dec', '-253', 'if', 'nno', '!=', '366'],\n",
       " ['v', 'dec', '542', 'if', 'b', '>=', '-1941'],\n",
       " ['z', 'dec', '-76', 'if', 'ns', '>', '-526'],\n",
       " ['y', 'inc', '-336', 'if', 'az', '==', '-2073'],\n",
       " ['nm', 'inc', '995', 'if', 'egk', '>', '1793'],\n",
       " ['f', 'inc', '-95', 'if', 'e', '<', '622'],\n",
       " ['zqo', 'inc', '-46', 'if', 'rn', '>', '1379'],\n",
       " ['b', 'dec', '470', 'if', 'av', '<=', '1299'],\n",
       " ['gyc', 'inc', '839', 'if', 'f', '>=', '-1304'],\n",
       " ['bqr', 'inc', '-766', 'if', 'bqr', '<', '227'],\n",
       " ['n', 'inc', '980', 'if', 'v', '<', '460'],\n",
       " ['bqr', 'dec', '-757', 'if', 'ns', '>=', '-528'],\n",
       " ['g', 'dec', '-507', 'if', 'f', '>', '-1308'],\n",
       " ['mx', 'inc', '249', 'if', 'ns', '>', '-522'],\n",
       " ['av', 'dec', '524', 'if', 'g', '<', '-507'],\n",
       " ['e', 'dec', '-962', 'if', 'rn', '>', '1397'],\n",
       " ['ns', 'inc', '139', 'if', 'zqo', '<', '666'],\n",
       " ['av', 'inc', '-443', 'if', 'zqo', '<=', '656'],\n",
       " ['z', 'dec', '-753', 'if', 'rn', '!=', '1391'],\n",
       " ['g', 'inc', '616', 'if', 'v', '<=', '474'],\n",
       " ['ga', 'dec', '196', 'if', 'nno', '<', '618'],\n",
       " ['av', 'dec', '-317', 'if', 'gyc', '>', '1826'],\n",
       " ['f', 'dec', '-673', 'if', 'cr', '<', '-2939'],\n",
       " ['b', 'inc', '-670', 'if', 'zqo', '>', '670'],\n",
       " ['cr', 'inc', '-948', 'if', 'ga', '<=', '-795'],\n",
       " ['av', 'dec', '-977', 'if', 'zqo', '==', '665'],\n",
       " ['f', 'dec', '521', 'if', 'ic', '!=', '-1764'],\n",
       " ['ga', 'inc', '342', 'if', 'nno', '!=', '618'],\n",
       " ['av', 'dec', '-989', 'if', 'gyc', '>=', '1823'],\n",
       " ['rn', 'inc', '-118', 'if', 'mx', '<', '-137'],\n",
       " ['ic', 'inc', '874', 'if', 'nm', '<', '-2429'],\n",
       " ['cr', 'dec', '441', 'if', 'by', '>', '4996'],\n",
       " ['az', 'dec', '920', 'if', 'cr', '==', '-4333'],\n",
       " ['by', 'inc', '486', 'if', 'z', '>=', '3168'],\n",
       " ['zqo', 'dec', '-614', 'if', 'u', '<=', '-3897'],\n",
       " ['zqo', 'inc', '-359', 'if', 'g', '>', '105'],\n",
       " ['cr', 'inc', '725', 'if', 'av', '<=', '3257'],\n",
       " ['nm', 'dec', '816', 'if', 'mx', '>=', '-133'],\n",
       " ['f', 'inc', '-174', 'if', 'az', '<', '-2996'],\n",
       " ['n', 'dec', '-832', 'if', 'egk', '<=', '1803'],\n",
       " ['z', 'dec', '-351', 'if', 'av', '>', '3257'],\n",
       " ['rn', 'inc', '814', 'if', 'egk', '==', '1802'],\n",
       " ['rn', 'dec', '516', 'if', 'bqr', '>', '206'],\n",
       " ['ic', 'inc', '-181', 'if', 'ns', '>=', '-383'],\n",
       " ['cr', 'dec', '476', 'if', 'av', '<', '3261'],\n",
       " ['rn', 'dec', '-446', 'if', 'mx', '>', '-141'],\n",
       " ['rn', 'dec', '966', 'if', 'bqr', '>', '213'],\n",
       " ['u', 'dec', '426', 'if', 'b', '!=', '-2408'],\n",
       " ['ic', 'inc', '841', 'if', 'ic', '>=', '-1071'],\n",
       " ['u', 'inc', '-990', 'if', 'n', '<', '371'],\n",
       " ['gyc', 'inc', '-436', 'if', 'az', '!=', '-2991'],\n",
       " ['egk', 'inc', '673', 'if', 'by', '==', '5485'],\n",
       " ['g', 'dec', '-510', 'if', 'egk', '>=', '2474'],\n",
       " ['v', 'inc', '-104', 'if', 'ic', '!=', '-225'],\n",
       " ['b', 'dec', '862', 'if', 'ga', '!=', '-452'],\n",
       " ['n', 'dec', '-733', 'if', 'mx', '!=', '-132'],\n",
       " ['b', 'dec', '-726', 'if', 'nno', '>', '618'],\n",
       " ['f', 'dec', '-259', 'if', 'rn', '==', '597'],\n",
       " ['e', 'inc', '51', 'if', 'nm', '==', '-2435'],\n",
       " ['y', 'inc', '-251', 'if', 'ns', '>=', '-388'],\n",
       " ['bqr', 'inc', '-684', 'if', 'u', '>=', '-5325'],\n",
       " ['bqr', 'inc', '-427', 'if', 'b', '>', '-3278'],\n",
       " ['n', 'inc', '526', 'if', 'mx', '>=', '-149'],\n",
       " ['f', 'inc', '-727', 'if', 'egk', '!=', '2475'],\n",
       " ['ga', 'inc', '345', 'if', 'g', '>=', '622'],\n",
       " ['ic', 'dec', '-398', 'if', 'ga', '>', '-113'],\n",
       " ['rn', 'dec', '581', 'if', 'egk', '<', '2478'],\n",
       " ['rn', 'inc', '926', 'if', 'g', '<', '614'],\n",
       " ['ns', 'inc', '469', 'if', 'nno', '!=', '615'],\n",
       " ['n', 'inc', '-870', 'if', 'vkg', '>', '-311'],\n",
       " ['mx', 'inc', '124', 'if', 'ga', '<=', '-103'],\n",
       " ['z', 'dec', '-983', 'if', 'ns', '!=', '96'],\n",
       " ['vkg', 'dec', '530', 'if', 'mx', '<', '-18'],\n",
       " ['rn', 'dec', '-899', 'if', 'g', '<', '625'],\n",
       " ['gyc', 'dec', '98', 'if', 'g', '<', '627'],\n",
       " ['av', 'inc', '-497', 'if', 'n', '<', '760'],\n",
       " ['nno', 'dec', '-115', 'if', 'egk', '>=', '2470'],\n",
       " ['z', 'inc', '610', 'if', 'z', '>', '4156'],\n",
       " ['mx', 'inc', '-184', 'if', 'ns', '>', '91'],\n",
       " ['cr', 'dec', '724', 'if', 'nm', '!=', '-2438'],\n",
       " ['ns', 'dec', '527', 'if', 'nno', '>', '727'],\n",
       " ['ns', 'inc', '-177', 'if', 'cr', '>=', '-4811'],\n",
       " ['v', 'dec', '423', 'if', 'rn', '!=', '921'],\n",
       " ['vkg', 'dec', '658', 'if', 'av', '>=', '2755'],\n",
       " ['y', 'inc', '-464', 'if', 'bqr', '>', '-890'],\n",
       " ['nm', 'dec', '440', 'if', 'e', '<', '673'],\n",
       " ['ic', 'dec', '-963', 'if', 'mx', '==', '-18'],\n",
       " ['n', 'dec', '-613', 'if', 'by', '<', '5488'],\n",
       " ['v', 'inc', '-412', 'if', 'egk', '<', '2482'],\n",
       " ['vkg', 'inc', '-278', 'if', 'y', '<', '1609'],\n",
       " ['by', 'inc', '200', 'if', 'e', '==', '672'],\n",
       " ['ns', 'inc', '-627', 'if', 'v', '==', '-51'],\n",
       " ['n', 'dec', '-176', 'if', 'e', '==', '672'],\n",
       " ['n', 'inc', '-511', 'if', 'gyc', '<=', '1289'],\n",
       " ['zqo', 'inc', '589', 'if', 'ga', '==', '-108'],\n",
       " ['v', 'dec', '533', 'if', 'egk', '<', '2485'],\n",
       " ['zqo', 'dec', '-93', 'if', 'n', '>', '1536'],\n",
       " ['e', 'dec', '-618', 'if', 'nno', '<', '742'],\n",
       " ['gyc', 'inc', '258', 'if', 'f', '!=', '-1139'],\n",
       " ['ga', 'inc', '562', 'if', 'vkg', '>=', '-1254'],\n",
       " ['n', 'inc', '-492', 'if', 'f', '>', '-1158'],\n",
       " ['rn', 'dec', '-267', 'if', 'nno', '<', '738'],\n",
       " ['v', 'dec', '-263', 'if', 'y', '<', '1603'],\n",
       " ['vkg', 'inc', '206', 'if', 'mx', '==', '-18'],\n",
       " ['av', 'dec', '-610', 'if', 'n', '<=', '1060'],\n",
       " ['by', 'dec', '-352', 'if', 'mx', '<=', '-24'],\n",
       " ['zqo', 'dec', '74', 'if', 'vkg', '>=', '-1046'],\n",
       " ['ns', 'inc', '-251', 'if', 'ga', '>', '457'],\n",
       " ['cr', 'dec', '531', 'if', 'n', '!=', '1047'],\n",
       " ['ga', 'inc', '892', 'if', 'by', '<', '5683'],\n",
       " ['vkg', 'inc', '-687', 'if', 'b', '>=', '-3273'],\n",
       " ['av', 'inc', '-208', 'if', 'v', '<=', '-580'],\n",
       " ['g', 'dec', '550', 'if', 'az', '!=', '-2985'],\n",
       " ['ga', 'dec', '-595', 'if', 'gyc', '>=', '1548'],\n",
       " ['egk', 'dec', '-240', 'if', 'zqo', '>=', '930'],\n",
       " ['b', 'dec', '262', 'if', 'az', '==', '-2992'],\n",
       " ['egk', 'dec', '831', 'if', 'ga', '<', '1055'],\n",
       " ['zqo', 'inc', '928', 'if', 'ga', '>', '1044'],\n",
       " ['nno', 'inc', '-90', 'if', 'gyc', '>=', '1542'],\n",
       " ['e', 'inc', '-47', 'if', 'f', '<', '-1144'],\n",
       " ['u', 'dec', '131', 'if', 'zqo', '>', '1871'],\n",
       " ['g', 'dec', '268', 'if', 'f', '!=', '-1148'],\n",
       " ['b', 'dec', '-964', 'if', 'n', '<=', '1045'],\n",
       " ['gyc', 'dec', '-952', 'if', 'az', '>', '-3001'],\n",
       " ['egk', 'inc', '324', 'if', 'vkg', '!=', '-1735'],\n",
       " ['by', 'inc', '-460', 'if', 'av', '==', '3167'],\n",
       " ['bqr', 'inc', '494', 'if', 'nm', '>=', '-2878'],\n",
       " ['by', 'inc', '-616', 'if', 'rn', '<', '1191'],\n",
       " ['ga', 'dec', '-150', 'if', 'u', '!=', '-5312'],\n",
       " ['ns', 'dec', '-535', 'if', 'av', '==', '3161'],\n",
       " ['rn', 'inc', '-720', 'if', 'ic', '>', '1135'],\n",
       " ['n', 'inc', '-821', 'if', 'gyc', '<', '2508'],\n",
       " ['n', 'inc', '670', 'if', 'ns', '<', '-705'],\n",
       " ['f', 'inc', '419', 'if', 'ga', '==', '1197'],\n",
       " ['mx', 'dec', '-96', 'if', 'nm', '>=', '-2876'],\n",
       " ['vkg', 'inc', '-270', 'if', 'n', '<', '909'],\n",
       " ['z', 'dec', '-907', 'if', 'ns', '<', '-700'],\n",
       " ['ns', 'inc', '160', 'if', 'gyc', '>=', '2491'],\n",
       " ['av', 'dec', '-250', 'if', 'e', '>', '1240'],\n",
       " ['f', 'inc', '768', 'if', 'ns', '>=', '-542'],\n",
       " ['ga', 'inc', '443', 'if', 'gyc', '>', '2498'],\n",
       " ['rn', 'dec', '107', 'if', 'g', '==', '72'],\n",
       " ['ga', 'inc', '-420', 'if', 'mx', '!=', '74'],\n",
       " ['mx', 'dec', '-763', 'if', 'ic', '==', '1140'],\n",
       " ['b', 'inc', '586', 'if', 'gyc', '<=', '2505'],\n",
       " ['mx', 'dec', '-948', 'if', 'gyc', '>', '2509'],\n",
       " ['zqo', 'dec', '-384', 'if', 'vkg', '<', '-1991'],\n",
       " ['z', 'dec', '234', 'if', 'rn', '>', '1072'],\n",
       " ['gyc', 'dec', '-821', 'if', 'v', '>', '-590'],\n",
       " ['z', 'inc', '83', 'if', 'v', '==', '-584'],\n",
       " ['egk', 'dec', '-835', 'if', 'b', '<=', '-2941'],\n",
       " ['cr', 'dec', '-495', 'if', 'v', '>', '-590'],\n",
       " ['by', 'inc', '259', 'if', 'cr', '<=', '-4852'],\n",
       " ['cr', 'inc', '530', 'if', 'mx', '!=', '77'],\n",
       " ['vkg', 'inc', '381', 'if', 'g', '<=', '80'],\n",
       " ['by', 'dec', '-71', 'if', 'az', '==', '-2992'],\n",
       " ['mx', 'inc', '-453', 'if', 'g', '>', '64'],\n",
       " ['ic', 'inc', '410', 'if', 'vkg', '>', '-1618'],\n",
       " ['f', 'inc', '945', 'if', 'n', '==', '901'],\n",
       " ['y', 'dec', '409', 'if', 'nm', '>=', '-2884'],\n",
       " ['z', 'inc', '870', 'if', 'vkg', '>=', '-1606'],\n",
       " ['av', 'inc', '187', 'if', 'z', '>=', '5521'],\n",
       " ['nno', 'inc', '-852', 'if', 'ga', '>', '1212'],\n",
       " ['cr', 'inc', '788', 'if', 'av', '<', '3608'],\n",
       " ['e', 'dec', '-182', 'if', 'by', '!=', '5143'],\n",
       " ['nno', 'inc', '-706', 'if', 'ga', '>=', '1228'],\n",
       " ['vkg', 'inc', '782', 'if', 'z', '<', '5532'],\n",
       " ['mx', 'dec', '839', 'if', 'nno', '>', '-219'],\n",
       " ['v', 'dec', '267', 'if', 'b', '>', '-2952'],\n",
       " ['v', 'inc', '901', 'if', 'gyc', '==', '3321'],\n",
       " ['g', 'dec', '-820', 'if', 'rn', '!=', '1079'],\n",
       " ['ic', 'dec', '-221', 'if', 'zqo', '<=', '2259'],\n",
       " ['ga', 'inc', '-784', 'if', 'e', '==', '1425'],\n",
       " ['ga', 'inc', '-569', 'if', 'bqr', '>=', '-404'],\n",
       " ['u', 'inc', '-206', 'if', 'mx', '<=', '-1212'],\n",
       " ['gyc', 'inc', '-685', 'if', 'nm', '==', '-2881'],\n",
       " ['e', 'dec', '269', 'if', 'mx', '<=', '-1208'],\n",
       " ['av', 'dec', '-207', 'if', 'by', '>=', '5137'],\n",
       " ['nno', 'inc', '-109', 'if', 'ga', '!=', '-131'],\n",
       " ['ga', 'dec', '3', 'if', 'ic', '!=', '1761'],\n",
       " ['zqo', 'inc', '181', 'if', 'nm', '<', '-2866'],\n",
       " ['y', 'inc', '-15', 'if', 'by', '>=', '5140'],\n",
       " ['rn', 'dec', '-617', 'if', 'g', '!=', '884'],\n",
       " ['g', 'dec', '574', 'if', 'mx', '<', '-1213'],\n",
       " ['ga', 'dec', '-775', 'if', 'bqr', '>=', '-404'],\n",
       " ['ic', 'dec', '186', 'if', 'v', '<', '55'],\n",
       " ['gyc', 'dec', '497', 'if', 'ns', '>=', '-552'],\n",
       " ['z', 'dec', '619', 'if', 'nno', '>=', '-319'],\n",
       " ['b', 'dec', '-753', 'if', 'av', '==', '3809'],\n",
       " ['by', 'inc', '-890', 'if', 'n', '!=', '901'],\n",
       " ['b', 'inc', '-714', 'if', 'z', '==', '4902'],\n",
       " ['n', 'inc', '927', 'if', 'v', '<=', '43'],\n",
       " ['b', 'inc', '-107', 'if', 'b', '<=', '-2947'],\n",
       " ['nno', 'dec', '707', 'if', 'y', '==', '1183'],\n",
       " ['vkg', 'dec', '199', 'if', 'az', '<=', '-2996'],\n",
       " ['gyc', 'inc', '-684', 'if', 'cr', '<=', '-3523'],\n",
       " ['z', 'dec', '-518', 'if', 'zqo', '==', '2429'],\n",
       " ['ga', 'inc', '-220', 'if', 'cr', '>=', '-3527'],\n",
       " ['zqo', 'inc', '-922', 'if', 'y', '<=', '1183'],\n",
       " ['rn', 'dec', '852', 'if', 'gyc', '!=', '2138'],\n",
       " ['nno', 'inc', '419', 'if', 'ic', '==', '1577'],\n",
       " ['rn', 'dec', '-951', 'if', 'by', '<=', '5130'],\n",
       " ['av', 'inc', '-557', 'if', 'z', '==', '4904'],\n",
       " ['mx', 'dec', '599', 'if', 'g', '>', '327'],\n",
       " ['az', 'dec', '-594', 'if', 'u', '!=', '-5525'],\n",
       " ['gyc', 'dec', '187', 'if', 'y', '>', '1173'],\n",
       " ['v', 'dec', '2', 'if', 'e', '>=', '1153'],\n",
       " ['gyc', 'inc', '-814', 'if', 'ns', '<', '-540'],\n",
       " ['zqo', 'dec', '-401', 'if', 'av', '!=', '3249'],\n",
       " ['ic', 'dec', '-511', 'if', 'g', '==', '318'],\n",
       " ['g', 'dec', '-447', 'if', 'g', '==', '318'],\n",
       " ['zqo', 'dec', '965', 'if', 'by', '!=', '5146'],\n",
       " ['gyc', 'inc', '658', 'if', 'vkg', '!=', '-824'],\n",
       " ['nm', 'inc', '-663', 'if', 'e', '>', '1156'],\n",
       " ['n', 'inc', '-974', 'if', 'zqo', '<=', '954'],\n",
       " ['n', 'dec', '363', 'if', 'az', '<=', '-2389'],\n",
       " ['ga', 'dec', '300', 'if', 'v', '<=', '53'],\n",
       " ['n', 'inc', '-402', 'if', 'y', '>', '1186'],\n",
       " ['b', 'dec', '839', 'if', 'bqr', '>=', '-406'],\n",
       " ['rn', 'inc', '-188', 'if', 'v', '>', '57'],\n",
       " ['av', 'inc', '952', 'if', 'rn', '<', '852'],\n",
       " ['bqr', 'inc', '973', 'if', 'v', '==', '56'],\n",
       " ['f', 'dec', '-234', 'if', 'b', '>', '-3899'],\n",
       " ['nm', 'dec', '-96', 'if', 'zqo', '!=', '949'],\n",
       " ['e', 'dec', '141', 'if', 'ic', '!=', '2084'],\n",
       " ['ga', 'dec', '146', 'if', 'g', '>', '755'],\n",
       " ['av', 'inc', '-333', 'if', 'ga', '>', '-33'],\n",
       " ['z', 'dec', '698', 'if', 'e', '==', '1015'],\n",
       " ['e', 'dec', '-493', 'if', 'z', '>=', '4200'],\n",
       " ['v', 'dec', '234', 'if', 'v', '>=', '48'],\n",
       " ['az', 'dec', '572', 'if', 'vkg', '<', '-831'],\n",
       " ['vkg', 'dec', '164', 'if', 'u', '>=', '-5527'],\n",
       " ['ga', 'dec', '-933', 'if', 'rn', '!=', '846'],\n",
       " ['gyc', 'inc', '-180', 'if', 'ic', '>', '2081'],\n",
       " ['vkg', 'dec', '-305', 'if', 'z', '>=', '4198'],\n",
       " ['ic', 'inc', '50', 'if', 'cr', '==', '-3526'],\n",
       " ['egk', 'inc', '-956', 'if', 'zqo', '<=', '939'],\n",
       " ['n', 'inc', '265', 'if', 'z', '>=', '4215'],\n",
       " ['az', 'inc', '-574', 'if', 'nm', '<=', '-2776'],\n",
       " ['bqr', 'dec', '-19', 'if', 'ic', '==', '2141'],\n",
       " ['ga', 'inc', '-682', 'if', 'cr', '!=', '-3525'],\n",
       " ['g', 'dec', '864', 'if', 'g', '>', '764'],\n",
       " ['ns', 'inc', '-746', 'if', 'f', '<', '452'],\n",
       " ['g', 'inc', '-969', 'if', 'f', '>=', '450'],\n",
       " ['ga', 'inc', '-127', 'if', 'e', '<', '1518'],\n",
       " ['v', 'inc', '-903', 'if', 'egk', '==', '3043'],\n",
       " ['cr', 'dec', '714', 'if', 'nm', '<', '-2775'],\n",
       " ['f', 'inc', '33', 'if', 'ga', '!=', '-835'],\n",
       " ['bqr', 'inc', '919', 'if', 'bqr', '!=', '-382'],\n",
       " ['nm', 'dec', '-489', 'if', 'z', '<', '4210'],\n",
       " ['vkg', 'dec', '962', 'if', 'gyc', '!=', '1611'],\n",
       " ['z', 'inc', '-698', 'if', 'ga', '>=', '-844'],\n",
       " ['z', 'dec', '645', 'if', 'e', '<=', '1510'],\n",
       " ['ns', 'dec', '-501', 'if', 'y', '!=', '1174'],\n",
       " ['az', 'inc', '-314', 'if', 'av', '<', '3868'],\n",
       " ['mx', 'inc', '-207', 'if', 'ns', '==', '-792'],\n",
       " ['z', 'inc', '-604', 'if', 'zqo', '<', '952'],\n",
       " ['g', 'inc', '466', 'if', 'g', '>', '-1067'],\n",
       " ['b', 'inc', '-704', 'if', 'nm', '>=', '-2295'],\n",
       " ['nno', 'dec', '284', 'if', 'e', '!=', '1500'],\n",
       " ['cr', 'dec', '58', 'if', 'z', '<', '2263'],\n",
       " ['rn', 'dec', '494', 'if', 'ic', '>', '2148'],\n",
       " ['nm', 'dec', '211', 'if', 'by', '<', '5141'],\n",
       " ['by', 'inc', '150', 'if', 'av', '>=', '3862'],\n",
       " ['gyc', 'inc', '-716', 'if', 'b', '<=', '-4596'],\n",
       " ['u', 'dec', '466', 'if', 'ns', '>', '-798'],\n",
       " ['mx', 'inc', '-935', 'if', 'cr', '==', '-4288'],\n",
       " ['bqr', 'inc', '275', 'if', 'b', '<', '-4587'],\n",
       " ['v', 'dec', '771', 'if', 'egk', '==', '3043'],\n",
       " ['vkg', 'inc', '-902', 'if', 'u', '!=', '-6000'],\n",
       " ['b', 'dec', '-683', 'if', 'nno', '==', '-1311'],\n",
       " ['egk', 'dec', '525', 'if', 'v', '==', '-1860'],\n",
       " ['az', 'inc', '708', 'if', 'by', '>', '5284'],\n",
       " ['y', 'inc', '-820', 'if', 'ic', '>=', '2137'],\n",
       " ['az', 'inc', '-720', 'if', 'zqo', '<=', '940'],\n",
       " ['u', 'inc', '-299', 'if', 'zqo', '<', '955'],\n",
       " ['bqr', 'inc', '248', 'if', 'rn', '==', '846'],\n",
       " ['g', 'inc', '148', 'if', 'n', '>', '-441'],\n",
       " ['nm', 'dec', '213', 'if', 'egk', '>=', '2509'],\n",
       " ['ic', 'inc', '-840', 'if', 'g', '<', '-928'],\n",
       " ['f', 'inc', '98', 'if', 'by', '>=', '5287'],\n",
       " ['nm', 'inc', '909', 'if', 'v', '!=', '-1863'],\n",
       " ['vkg', 'dec', '-856', 'if', 'y', '>=', '360'],\n",
       " ['v', 'inc', '-156', 'if', 'zqo', '==', '946'],\n",
       " ['bqr', 'dec', '908', 'if', 'gyc', '>=', '900'],\n",
       " ['zqo', 'inc', '836', 'if', 'f', '==', '581'],\n",
       " ['ns', 'inc', '-157', 'if', 'ns', '==', '-792'],\n",
       " ['egk', 'inc', '-899', 'if', 'z', '==', '2259'],\n",
       " ['ga', 'dec', '658', 'if', 'ic', '<', '2142'],\n",
       " ['nno', 'inc', '-278', 'if', 'by', '<', '5291'],\n",
       " ['egk', 'inc', '502', 'if', 'f', '>', '580'],\n",
       " ['z', 'dec', '807', 'if', 'y', '>=', '363'],\n",
       " ['nm', 'dec', '612', 'if', 'nno', '==', '-1583'],\n",
       " ['y', 'inc', '914', 'if', 'ns', '<=', '-942'],\n",
       " ['gyc', 'inc', '419', 'if', 'v', '!=', '-2013'],\n",
       " ['g', 'inc', '897', 'if', 'v', '<=', '-2015'],\n",
       " ['gyc', 'inc', '107', 'if', 'vkg', '>=', '-1709'],\n",
       " ['bqr', 'inc', '224', 'if', 'z', '<', '1460'],\n",
       " ['mx', 'dec', '809', 'if', 'ga', '<', '-1488'],\n",
       " ['cr', 'inc', '-401', 'if', 'av', '<', '3875'],\n",
       " ['ns', 'inc', '-521', 'if', 'by', '==', '5290'],\n",
       " ['az', 'inc', '-269', 'if', 'ga', '==', '-1494'],\n",
       " ['b', 'dec', '-688', 'if', 'by', '!=', '5294'],\n",
       " ['n', 'inc', '-746', 'if', 'mx', '<', '-2225'],\n",
       " ['y', 'inc', '-452', 'if', 'e', '<', '1509'],\n",
       " ['z', 'dec', '495', 'if', 'n', '<=', '-1175'],\n",
       " ['av', 'dec', '204', 'if', 'egk', '!=', '2117'],\n",
       " ['cr', 'inc', '30', 'if', 'ga', '>=', '-1498'],\n",
       " ['y', 'dec', '-821', 'if', 'gyc', '<', '1437'],\n",
       " ['av', 'dec', '-105', 'if', 'bqr', '!=', '-543'],\n",
       " ['by', 'inc', '-897', 'if', 'egk', '<', '2130'],\n",
       " ['az', 'inc', '392', 'if', 'vkg', '!=', '-1703'],\n",
       " ['egk', 'inc', '-34', 'if', 'ga', '<=', '-1490'],\n",
       " ['mx', 'dec', '-635', 'if', 'av', '>=', '3658'],\n",
       " ['gyc', 'inc', '307', 'if', 'zqo', '<', '1787'],\n",
       " ['v', 'dec', '263', 'if', 'v', '>=', '-2018'],\n",
       " ['n', 'dec', '574', 'if', 'f', '<', '582'],\n",
       " ['f', 'inc', '-432', 'if', 'g', '<', '-28'],\n",
       " ['z', 'dec', '259', 'if', 'av', '==', '3663'],\n",
       " ['zqo', 'inc', '472', 'if', 'b', '==', '-3909'],\n",
       " ['e', 'inc', '-779', 'if', 'bqr', '>', '-545'],\n",
       " ['zqo', 'inc', '187', 'if', 'v', '>', '-2282'],\n",
       " ['e', 'dec', '-395', 'if', 'y', '!=', '1652'],\n",
       " ['y', 'inc', '312', 'if', 'az', '<', '-3021'],\n",
       " ['ga', 'dec', '-324', 'if', 'egk', '<', '2082'],\n",
       " ['cr', 'dec', '-409', 'if', 'az', '<', '-3023'],\n",
       " ['nm', 'inc', '-790', 'if', 'bqr', '!=', '-533'],\n",
       " ['ga', 'dec', '252', 'if', 'ga', '<=', '-1493'],\n",
       " ['ic', 'inc', '-932', 'if', 'u', '<=', '-6292'],\n",
       " ['e', 'inc', '-547', 'if', 'vkg', '>=', '-1698'],\n",
       " ['nno', 'inc', '-171', 'if', 'b', '!=', '-3909'],\n",
       " ['g', 'dec', '-891', 'if', 'vkg', '<', '-1690'],\n",
       " ['ga', 'inc', '441', 'if', 'egk', '<', '2089'],\n",
       " ['z', 'dec', '-708', 'if', 'ic', '!=', '2147'],\n",
       " ['nm', 'inc', '-402', 'if', 'b', '==', '-3919'],\n",
       " ['f', 'inc', '-374', 'if', 'u', '!=', '-6291'],\n",
       " ['ic', 'inc', '-48', 'if', 'ga', '>=', '-1312'],\n",
       " ['egk', 'dec', '-19', 'if', 'b', '>', '-3911'],\n",
       " ['av', 'dec', '305', 'if', 'ga', '>=', '-1313'],\n",
       " ['g', 'inc', '-475', 'if', 'mx', '<', '-1588'],\n",
       " ['vkg', 'inc', '-269', 'if', 'vkg', '==', '-1700'],\n",
       " ['gyc', 'inc', '-535', 'if', 'f', '>', '572'],\n",
       " ['nno', 'dec', '-382', 'if', 'ns', '>=', '-1475'],\n",
       " ['nno', 'dec', '650', 'if', 'y', '<=', '1959'],\n",
       " ['y', 'inc', '148', 'if', 'zqo', '<=', '2442'],\n",
       " ['by', 'dec', '-223', 'if', 'u', '!=', '-6286'],\n",
       " ['y', 'inc', '-319', 'if', 'ga', '>', '-1313'],\n",
       " ['nno', 'dec', '13', 'if', 'av', '==', '3358'],\n",
       " ['ga', 'inc', '-402', 'if', 'gyc', '>', '1198'],\n",
       " ['rn', 'inc', '37', 'if', 'f', '==', '581'],\n",
       " ['gyc', 'inc', '-884', 'if', 'rn', '>', '882'],\n",
       " ['ic', 'dec', '676', 'if', 'zqo', '<=', '2438'],\n",
       " ['u', 'inc', '417', 'if', 'ic', '!=', '2098'],\n",
       " ['n', 'inc', '930', 'if', 'zqo', '<=', '2449'],\n",
       " ['av', 'inc', '509', 'if', 'ns', '>=', '-1477'],\n",
       " ['y', 'dec', '-981', 'if', 'y', '<', '1779'],\n",
       " ['az', 'inc', '-780', 'if', 'ns', '<', '-1472'],\n",
       " ['f', 'dec', '-834', 'if', 'by', '!=', '4622'],\n",
       " ['ic', 'inc', '721', 'if', 'av', '==', '3867'],\n",
       " ['e', 'dec', '916', 'if', 'g', '<=', '400'],\n",
       " ['zqo', 'inc', '169', 'if', 'cr', '>', '-4254'],\n",
       " ['nno', 'inc', '-685', 'if', 'z', '==', '1406'],\n",
       " ['v', 'dec', '-920', 'if', 'zqo', '>', '2440'],\n",
       " ['nno', 'inc', '91', 'if', 'gyc', '<', '317'],\n",
       " ['n', 'inc', '-395', 'if', 'nno', '!=', '-2459'],\n",
       " ['egk', 'inc', '-746', 'if', 'v', '==', '-1359'],\n",
       " ['av', 'inc', '66', 'if', 'cr', '==', '-4260'],\n",
       " ['gyc', 'inc', '40', 'if', 'ga', '>', '-1711'],\n",
       " ['egk', 'inc', '914', 'if', 'y', '<', '1788'],\n",
       " ['g', 'dec', '176', 'if', 'u', '!=', '-5869'],\n",
       " ['b', 'dec', '-550', 'if', 'vkg', '>=', '-1974'],\n",
       " ['g', 'inc', '-545', 'if', 'ic', '<', '2824'],\n",
       " ['nm', 'inc', '-645', 'if', 'cr', '<=', '-4256'],\n",
       " ['b', 'inc', '-103', 'if', 'ns', '>=', '-1477'],\n",
       " ['g', 'dec', '166', 'if', 'zqo', '>=', '2436'],\n",
       " ['nno', 'dec', '665', 'if', 'by', '<=', '4618'],\n",
       " ['rn', 'dec', '622', 'if', 'nno', '>', '-3130'],\n",
       " ['nno', 'inc', '-591', 'if', 'b', '<', '-3461'],\n",
       " ['az', 'inc', '-807', 'if', 'egk', '>=', '2272'],\n",
       " ['g', 'dec', '-417', 'if', 'f', '>=', '1425'],\n",
       " ['by', 'dec', '547', 'if', 'by', '!=', '4606'],\n",
       " ['cr', 'inc', '-579', 'if', 'e', '!=', '212'],\n",
       " ['nm', 'dec', '650', 'if', 'e', '==', '208'],\n",
       " ['b', 'dec', '-65', 'if', 'by', '>', '4064'],\n",
       " ['b', 'inc', '-263', 'if', 'ns', '<=', '-1473'],\n",
       " ['az', 'inc', '-784', 'if', 'g', '>=', '-494'],\n",
       " ['b', 'dec', '-193', 'if', 'z', '>', '1415'],\n",
       " ['bqr', 'dec', '143', 'if', 'zqo', '>=', '2443'],\n",
       " ['nno', 'dec', '385', 'if', 'g', '>=', '-496'],\n",
       " ['v', 'dec', '352', 'if', 'ic', '!=', '2814'],\n",
       " ['nno', 'dec', '-521', 'if', 'by', '!=', '4065'],\n",
       " ['ga', 'dec', '198', 'if', 'az', '<=', '-4612'],\n",
       " ['by', 'inc', '926', 'if', 'b', '>', '-3404'],\n",
       " ['bqr', 'inc', '-697', 'if', 'zqo', '==', '2441'],\n",
       " ['vkg', 'inc', '124', 'if', 'mx', '<', '-1588'],\n",
       " ['u', 'dec', '-564', 'if', 'bqr', '<', '-1237'],\n",
       " ['v', 'inc', '-763', 'if', 'ic', '>=', '2812'],\n",
       " ['egk', 'inc', '339', 'if', 'az', '>', '-4611'],\n",
       " ['z', 'dec', '-617', 'if', 'mx', '<=', '-1588'],\n",
       " ['av', 'inc', '-876', 'if', 'cr', '>=', '-4837'],\n",
       " ['n', 'dec', '-600', 'if', 'mx', '==', '-1595'],\n",
       " ['v', 'inc', '-354', 'if', 'vkg', '>', '-1850'],\n",
       " ['v', 'inc', '194', 'if', 'vkg', '<=', '-1841'],\n",
       " ['bqr', 'dec', '-206', 'if', 'av', '<=', '3934'],\n",
       " ['rn', 'dec', '547', 'if', 'z', '!=', '2033'],\n",
       " ['b', 'inc', '217', 'if', 'u', '<=', '-5305'],\n",
       " ['v', 'dec', '-230', 'if', 'egk', '!=', '2264'],\n",
       " ['n', 'inc', '-447', 'if', 'b', '!=', '-3180'],\n",
       " ['az', 'inc', '497', 'if', 'g', '>=', '-499'],\n",
       " ['e', 'inc', '-527', 'if', 'v', '<', '-2051'],\n",
       " ['u', 'inc', '-889', 'if', 'by', '==', '4995'],\n",
       " ['b', 'inc', '74', 'if', 'egk', '<', '2282'],\n",
       " ['ga', 'dec', '-65', 'if', 'v', '==', '-2052'],\n",
       " ['nno', 'inc', '156', 'if', 'av', '!=', '3933'],\n",
       " ['rn', 'inc', '-880', 'if', 'av', '!=', '3934'],\n",
       " ['cr', 'dec', '825', 'if', 'ga', '==', '-1840'],\n",
       " ['y', 'inc', '499', 'if', 'e', '==', '-319'],\n",
       " ['b', 'inc', '525', 'if', 'mx', '>', '-1604'],\n",
       " ['f', 'inc', '-731', 'if', 'zqo', '>=', '2437'],\n",
       " ['cr', 'inc', '398', 'if', 'gyc', '<', '360'],\n",
       " ['f', 'inc', '286', 'if', 'vkg', '>', '-1846'],\n",
       " ['zqo', 'inc', '761', 'if', 'ic', '>', '2816'],\n",
       " ['y', 'dec', '-877', 'if', 'rn', '!=', '-1166'],\n",
       " ['vkg', 'inc', '-405', 'if', 'ga', '!=', '-1838'],\n",
       " ['vkg', 'dec', '-522', 'if', 'v', '<=', '-2060'],\n",
       " ['mx', 'inc', '281', 'if', 'nno', '>', '-3586'],\n",
       " ['vkg', 'dec', '-203', 'if', 'bqr', '>=', '-1043'],\n",
       " ['vkg', 'inc', '278', 'if', 'az', '>=', '-4125'],\n",
       " ['rn', 'dec', '544', 'if', 'b', '<', '-2573'],\n",
       " ['av', 'dec', '730', 'if', 'mx', '>', '-1318'],\n",
       " ['ic', 'inc', '49', 'if', 'n', '<', '-620'],\n",
       " ['f', 'dec', '-599', 'if', 'nno', '!=', '-3583'],\n",
       " ['e', 'inc', '-871', 'if', 'gyc', '==', '355'],\n",
       " ['e', 'dec', '-735', 'if', 'mx', '!=', '-1307'],\n",
       " ['n', 'dec', '-73', 'if', 'rn', '<=', '-1707'],\n",
       " ['ns', 'inc', '896', 'if', 'g', '>=', '-502'],\n",
       " ['z', 'dec', '-480', 'if', 'z', '<=', '2023'],\n",
       " ['zqo', 'inc', '595', 'if', 'v', '<', '-2043'],\n",
       " ['mx', 'dec', '647', 'if', 'vkg', '==', '-1769'],\n",
       " ['n', 'inc', '743', 'if', 'nno', '>', '-3589'],\n",
       " ['gyc', 'inc', '129', 'if', 'cr', '>', '-5267'],\n",
       " ['vkg', 'inc', '703', 'if', 'mx', '>', '-1966'],\n",
       " ['bqr', 'inc', '378', 'if', 'g', '<=', '-487'],\n",
       " ['ga', 'dec', '852', 'if', 'zqo', '>', '3035'],\n",
       " ['zqo', 'dec', '-43', 'if', 'y', '>', '2280'],\n",
       " ['ga', 'dec', '849', 'if', 'cr', '!=', '-5259'],\n",
       " ['gyc', 'inc', '-363', 'if', 'av', '>=', '3203'],\n",
       " ['vkg', 'dec', '481', 'if', 'nm', '<=', '-3884'],\n",
       " ['g', 'dec', '609', 'if', 'f', '<', '964'],\n",
       " ['av', 'inc', '-951', 'if', 'n', '!=', '187'],\n",
       " ['ns', 'inc', '-676', 'if', 'zqo', '==', '3079'],\n",
       " ['nno', 'dec', '-998', 'if', 'av', '==', '2252'],\n",
       " ['n', 'dec', '-624', 'if', 'vkg', '>', '-1544'],\n",
       " ['y', 'inc', '-262', 'if', 'ns', '==', '-1250'],\n",
       " ['av', 'dec', '248', 'if', 'ns', '<', '-1250'],\n",
       " ['f', 'dec', '351', 'if', 'z', '==', '2503'],\n",
       " ['bqr', 'inc', '535', 'if', 'ic', '>', '2858'],\n",
       " ['f', 'inc', '-725', 'if', 'nno', '>', '-2589'],\n",
       " ['ic', 'inc', '860', 'if', 'v', '==', '-2052'],\n",
       " ['nno', 'inc', '-211', 'if', 'v', '>=', '-2055'],\n",
       " ['ic', 'dec', '-324', 'if', 'bqr', '<=', '-126'],\n",
       " ['az', 'dec', '746', 'if', 'f', '<=', '-99'],\n",
       " ['g', 'dec', '985', 'if', 'e', '<=', '-454'],\n",
       " ['f', 'dec', '434', 'if', 'z', '<', '2495'],\n",
       " ['egk', 'dec', '842', 'if', 'bqr', '==', '-121'],\n",
       " ['gyc', 'inc', '715', 'if', 'y', '>=', '2022'],\n",
       " ['ns', 'inc', '-573', 'if', 'nm', '!=', '-3888'],\n",
       " ['b', 'dec', '415', 'if', 'mx', '>=', '-1951'],\n",
       " ['by', 'inc', '-719', 'if', 'ga', '==', '-3551'],\n",
       " ['n', 'dec', '-783', 'if', 'cr', '>=', '-5268'],\n",
       " ['nm', 'dec', '409', 'if', 'by', '>', '4988'],\n",
       " ['u', 'inc', '-72', 'if', 'av', '>=', '2246'],\n",
       " ['ns', 'inc', '338', 'if', 'v', '<=', '-2050'],\n",
       " ['e', 'inc', '12', 'if', 'rn', '<', '-1706'],\n",
       " ['ns', 'dec', '-354', 'if', 'nm', '==', '-4299'],\n",
       " ['egk', 'inc', '-589', 'if', 'zqo', '>=', '3084'],\n",
       " ['egk', 'dec', '856', 'if', 'vkg', '!=', '-1555'],\n",
       " ['ns', 'inc', '-439', 'if', 'zqo', '>=', '3076'],\n",
       " ['by', 'inc', '-942', 'if', 'cr', '!=', '-5272'],\n",
       " ['z', 'inc', '119', 'if', 'b', '>=', '-2588'],\n",
       " ['cr', 'inc', '-864', 'if', 'ga', '!=', '-3537'],\n",
       " ['nno', 'inc', '-333', 'if', 'gyc', '>', '828'],\n",
       " ['z', 'inc', '-530', 'if', 'e', '>', '-451'],\n",
       " ['nno', 'inc', '-113', 'if', 'u', '>', '-6271'],\n",
       " ['g', 'inc', '-213', 'if', 'mx', '<=', '-1953'],\n",
       " ['y', 'inc', '107', 'if', 'ga', '<', '-3536'],\n",
       " ['y', 'dec', '-971', 'if', 'az', '<', '-4859'],\n",
       " ['n', 'dec', '-424', 'if', 'av', '<', '2258'],\n",
       " ['ic', 'dec', '632', 'if', 'rn', '<=', '-1705'],\n",
       " ['az', 'dec', '-701', 'if', 'ns', '>', '-1576'],\n",
       " ['by', 'dec', '-45', 'if', 'egk', '>', '581'],\n",
       " ['z', 'inc', '111', 'if', 'vkg', '==', '-1547'],\n",
       " ['ic', 'dec', '-737', 'if', 'u', '<=', '-6266'],\n",
       " ['v', 'dec', '13', 'if', 'nm', '!=', '-4289'],\n",
       " ['b', 'inc', '-616', 'if', 'ic', '<', '3838'],\n",
       " ['av', 'inc', '266', 'if', 'b', '<=', '-3190'],\n",
       " ['nno', 'dec', '-699', 'if', 'gyc', '>=', '834'],\n",
       " ['y', 'dec', '400', 'if', 'gyc', '>=', '835'],\n",
       " ['y', 'dec', '-119', 'if', 'ns', '<=', '-1567'],\n",
       " ['n', 'dec', '452', 'if', 'rn', '<', '-1703'],\n",
       " ['egk', 'inc', '-254', 'if', 'vkg', '==', '-1556'],\n",
       " ['az', 'inc', '568', 'if', 'ns', '<=', '-1580'],\n",
       " ['f', 'dec', '-399', 'if', 'bqr', '<', '-115'],\n",
       " ['zqo', 'dec', '948', 'if', 'nno', '>', '-2440'],\n",
       " ['rn', 'inc', '154', 'if', 'zqo', '==', '2131'],\n",
       " ['f', 'dec', '-21', 'if', 'b', '!=', '-3190'],\n",
       " ['nno', 'inc', '-204', 'if', 'g', '>', '-1683'],\n",
       " ['v', 'dec', '190', 'if', 'az', '>=', '-4168'],\n",
       " ['bqr', 'inc', '236', 'if', 'v', '>', '-2263'],\n",
       " ['cr', 'dec', '554', 'if', 'nm', '>=', '-4303'],\n",
       " ['gyc', 'inc', '-657', 'if', 'e', '>', '-449'],\n",
       " ['e', 'inc', '65', 'if', 'nm', '!=', '-4306'],\n",
       " ['v', 'inc', '340', 'if', 'az', '>', '-4171'],\n",
       " ['mx', 'dec', '527', 'if', 'nm', '<=', '-4296'],\n",
       " ['g', 'dec', '-426', 'if', 'ic', '>', '3819'],\n",
       " ['b', 'dec', '-766', 'if', 'z', '<', '2205'],\n",
       " ['ic', 'inc', '822', 'if', 'cr', '<', '-6677'],\n",
       " ['cr', 'inc', '-733', 'if', 'n', '!=', '958'],\n",
       " ['rn', 'inc', '-759', 'if', 'vkg', '==', '-1547'],\n",
       " ['nm', 'dec', '588', 'if', 'rn', '==', '-2315'],\n",
       " ['n', 'dec', '310', 'if', 'ic', '<', '4641'],\n",
       " ['n', 'dec', '-24', 'if', 'g', '>=', '-1274'],\n",
       " ['n', 'dec', '341', 'if', 'nm', '==', '-4887'],\n",
       " ['cr', 'dec', '131', 'if', 'av', '>', '2513'],\n",
       " ['zqo', 'inc', '-78', 'if', 'gyc', '<', '181'],\n",
       " ['mx', 'inc', '368', 'if', 'vkg', '<', '-1537'],\n",
       " ['gyc', 'inc', '157', 'if', 'zqo', '>=', '2053'],\n",
       " ['rn', 'inc', '-871', 'if', 'vkg', '<=', '-1544'],\n",
       " ['bqr', 'dec', '299', 'if', 'egk', '==', '576'],\n",
       " ['cr', 'dec', '27', 'if', 'b', '<=', '-2423'],\n",
       " ['rn', 'dec', '848', 'if', 'az', '<', '-4170'],\n",
       " ['av', 'dec', '836', 'if', 'egk', '<=', '577'],\n",
       " ['v', 'dec', '-334', 'if', 'cr', '<', '-7576'],\n",
       " ['f', 'dec', '-820', 'if', 'u', '==', '-6271'],\n",
       " ['az', 'dec', '-367', 'if', 'egk', '==', '576'],\n",
       " ['by', 'inc', '-267', 'if', 'bqr', '!=', '-192'],\n",
       " ['bqr', 'dec', '95', 'if', 'cr', '==', '-7575'],\n",
       " ['ga', 'dec', '-641', 'if', 'bqr', '==', '-279'],\n",
       " ['ns', 'inc', '-776', 'if', 'y', '!=', '2821'],\n",
       " ['by', 'dec', '177', 'if', 'cr', '!=', '-7575'],\n",
       " ['nno', 'dec', '656', 'if', 'g', '>=', '-1261'],\n",
       " ['z', 'inc', '-641', 'if', 'az', '>=', '-3789'],\n",
       " ['rn', 'dec', '93', 'if', 'v', '!=', '-1911'],\n",
       " ['az', 'dec', '-664', 'if', 'f', '>', '1139'],\n",
       " ['ic', 'dec', '-565', 'if', 'e', '>=', '-380'],\n",
       " ['by', 'inc', '-600', 'if', 'ga', '==', '-2894'],\n",
       " ['zqo', 'dec', '580', 'if', 'g', '<=', '-1263'],\n",
       " ['zqo', 'dec', '-324', 'if', 'by', '!=', '3784'],\n",
       " ['gyc', 'dec', '-987', 'if', 'ns', '!=', '-1570'],\n",
       " ['gyc', 'dec', '-921', 'if', 'mx', '>=', '-2111'],\n",
       " ['by', 'inc', '-529', 'if', 'ic', '<', '5211'],\n",
       " ['av', 'dec', '272', 'if', 'ic', '==', '5210'],\n",
       " ['nno', 'inc', '745', 'if', 'e', '<', '-374'],\n",
       " ['ga', 'inc', '893', 'if', 'by', '>=', '3782'],\n",
       " ['egk', 'dec', '-936', 'if', 'bqr', '>=', '-284'],\n",
       " ['vkg', 'dec', '-146', 'if', 'nno', '<=', '-1679'],\n",
       " ['y', 'inc', '-686', 'if', 'ga', '!=', '-2000'],\n",
       " ['b', 'dec', '-659', 'if', 'u', '<', '-6265'],\n",
       " ['b', 'dec', '418', 'if', 'n', '<', '629'],\n",
       " ['az', 'inc', '613', 'if', 'ns', '==', '-1563'],\n",
       " ['vkg', 'inc', '385', 'if', 'ga', '!=', '-2017'],\n",
       " ['egk', 'dec', '54', 'if', 'az', '==', '-3802'],\n",
       " ['vkg', 'inc', '330', 'if', 'by', '==', '3786'],\n",
       " ['f', 'inc', '-243', 'if', 'u', '!=', '-6271'],\n",
       " ['gyc', 'dec', '751', 'if', 'ns', '!=', '-1574'],\n",
       " ['nno', 'dec', '-285', 'if', 'ga', '<=', '-2006'],\n",
       " ['vkg', 'inc', '-257', 'if', 'v', '>=', '-1921']]"
      ]
     },
     "execution_count": 42,
     "metadata": {},
     "output_type": "execute_result"
    }
   ],
   "source": [
    "program"
   ]
  },
  {
   "cell_type": "code",
   "execution_count": null,
   "metadata": {
    "collapsed": true
   },
   "outputs": [],
   "source": [
    "def max_reg():\n",
    "    registers = defaultdict(int)\n",
    "    op = {'>': operator.gt, '>=': operator.ge, '==': operator.eq,\n",
    "          '<': operator.lt, '<=': operator.le, '!=': operator.ne}\n",
    "    for r,op,delta,_,r2,comp,amount in program:\n",
    "        if op[]\n",
    "        "
   ]
  }
 ],
 "metadata": {
  "kernelspec": {
   "display_name": "Python (adventofcode)",
   "language": "python",
   "name": "adventofcode"
  },
  "language_info": {
   "codemirror_mode": {
    "name": "ipython",
    "version": 2
   },
   "file_extension": ".py",
   "mimetype": "text/x-python",
   "name": "python",
   "nbconvert_exporter": "python",
   "pygments_lexer": "ipython2",
   "version": "2.7.13"
  }
 },
 "nbformat": 4,
 "nbformat_minor": 2
}
